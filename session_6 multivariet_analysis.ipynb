{
 "cells": [
  {
   "cell_type": "code",
   "execution_count": 5,
   "id": "17149fbe-c45e-47d3-987f-6a8cfb04d8c9",
   "metadata": {},
   "outputs": [
    {
     "data": {
      "text/html": [
       "<div>\n",
       "<style scoped>\n",
       "    .dataframe tbody tr th:only-of-type {\n",
       "        vertical-align: middle;\n",
       "    }\n",
       "\n",
       "    .dataframe tbody tr th {\n",
       "        vertical-align: top;\n",
       "    }\n",
       "\n",
       "    .dataframe thead th {\n",
       "        text-align: right;\n",
       "    }\n",
       "</style>\n",
       "<table border=\"1\" class=\"dataframe\">\n",
       "  <thead>\n",
       "    <tr style=\"text-align: right;\">\n",
       "      <th></th>\n",
       "      <th>case_id</th>\n",
       "      <th>continent</th>\n",
       "      <th>education_of_employee</th>\n",
       "      <th>has_job_experience</th>\n",
       "      <th>requires_job_training</th>\n",
       "      <th>no_of_employees</th>\n",
       "      <th>yr_of_estab</th>\n",
       "      <th>region_of_employment</th>\n",
       "      <th>prevailing_wage</th>\n",
       "      <th>unit_of_wage</th>\n",
       "      <th>full_time_position</th>\n",
       "      <th>case_status</th>\n",
       "    </tr>\n",
       "  </thead>\n",
       "  <tbody>\n",
       "    <tr>\n",
       "      <th>0</th>\n",
       "      <td>EZYV01</td>\n",
       "      <td>Asia</td>\n",
       "      <td>High School</td>\n",
       "      <td>N</td>\n",
       "      <td>N</td>\n",
       "      <td>14513</td>\n",
       "      <td>2007</td>\n",
       "      <td>West</td>\n",
       "      <td>592.2029</td>\n",
       "      <td>Hour</td>\n",
       "      <td>Y</td>\n",
       "      <td>Denied</td>\n",
       "    </tr>\n",
       "    <tr>\n",
       "      <th>1</th>\n",
       "      <td>EZYV02</td>\n",
       "      <td>Asia</td>\n",
       "      <td>Master's</td>\n",
       "      <td>Y</td>\n",
       "      <td>N</td>\n",
       "      <td>2412</td>\n",
       "      <td>2002</td>\n",
       "      <td>Northeast</td>\n",
       "      <td>83425.6500</td>\n",
       "      <td>Year</td>\n",
       "      <td>Y</td>\n",
       "      <td>Certified</td>\n",
       "    </tr>\n",
       "    <tr>\n",
       "      <th>2</th>\n",
       "      <td>EZYV03</td>\n",
       "      <td>Asia</td>\n",
       "      <td>Bachelor's</td>\n",
       "      <td>N</td>\n",
       "      <td>Y</td>\n",
       "      <td>44444</td>\n",
       "      <td>2008</td>\n",
       "      <td>West</td>\n",
       "      <td>122996.8600</td>\n",
       "      <td>Year</td>\n",
       "      <td>Y</td>\n",
       "      <td>Denied</td>\n",
       "    </tr>\n",
       "    <tr>\n",
       "      <th>3</th>\n",
       "      <td>EZYV04</td>\n",
       "      <td>Asia</td>\n",
       "      <td>Bachelor's</td>\n",
       "      <td>N</td>\n",
       "      <td>N</td>\n",
       "      <td>98</td>\n",
       "      <td>1897</td>\n",
       "      <td>West</td>\n",
       "      <td>83434.0300</td>\n",
       "      <td>Year</td>\n",
       "      <td>Y</td>\n",
       "      <td>Denied</td>\n",
       "    </tr>\n",
       "    <tr>\n",
       "      <th>4</th>\n",
       "      <td>EZYV05</td>\n",
       "      <td>Africa</td>\n",
       "      <td>Master's</td>\n",
       "      <td>Y</td>\n",
       "      <td>N</td>\n",
       "      <td>1082</td>\n",
       "      <td>2005</td>\n",
       "      <td>South</td>\n",
       "      <td>149907.3900</td>\n",
       "      <td>Year</td>\n",
       "      <td>Y</td>\n",
       "      <td>Certified</td>\n",
       "    </tr>\n",
       "    <tr>\n",
       "      <th>...</th>\n",
       "      <td>...</td>\n",
       "      <td>...</td>\n",
       "      <td>...</td>\n",
       "      <td>...</td>\n",
       "      <td>...</td>\n",
       "      <td>...</td>\n",
       "      <td>...</td>\n",
       "      <td>...</td>\n",
       "      <td>...</td>\n",
       "      <td>...</td>\n",
       "      <td>...</td>\n",
       "      <td>...</td>\n",
       "    </tr>\n",
       "    <tr>\n",
       "      <th>25475</th>\n",
       "      <td>EZYV25476</td>\n",
       "      <td>Asia</td>\n",
       "      <td>Bachelor's</td>\n",
       "      <td>Y</td>\n",
       "      <td>Y</td>\n",
       "      <td>2601</td>\n",
       "      <td>2008</td>\n",
       "      <td>South</td>\n",
       "      <td>77092.5700</td>\n",
       "      <td>Year</td>\n",
       "      <td>Y</td>\n",
       "      <td>Certified</td>\n",
       "    </tr>\n",
       "    <tr>\n",
       "      <th>25476</th>\n",
       "      <td>EZYV25477</td>\n",
       "      <td>Asia</td>\n",
       "      <td>High School</td>\n",
       "      <td>Y</td>\n",
       "      <td>N</td>\n",
       "      <td>3274</td>\n",
       "      <td>2006</td>\n",
       "      <td>Northeast</td>\n",
       "      <td>279174.7900</td>\n",
       "      <td>Year</td>\n",
       "      <td>Y</td>\n",
       "      <td>Certified</td>\n",
       "    </tr>\n",
       "    <tr>\n",
       "      <th>25477</th>\n",
       "      <td>EZYV25478</td>\n",
       "      <td>Asia</td>\n",
       "      <td>Master's</td>\n",
       "      <td>Y</td>\n",
       "      <td>N</td>\n",
       "      <td>1121</td>\n",
       "      <td>1910</td>\n",
       "      <td>South</td>\n",
       "      <td>146298.8500</td>\n",
       "      <td>Year</td>\n",
       "      <td>N</td>\n",
       "      <td>Certified</td>\n",
       "    </tr>\n",
       "    <tr>\n",
       "      <th>25478</th>\n",
       "      <td>EZYV25479</td>\n",
       "      <td>Asia</td>\n",
       "      <td>Master's</td>\n",
       "      <td>Y</td>\n",
       "      <td>Y</td>\n",
       "      <td>1918</td>\n",
       "      <td>1887</td>\n",
       "      <td>West</td>\n",
       "      <td>86154.7700</td>\n",
       "      <td>Year</td>\n",
       "      <td>Y</td>\n",
       "      <td>Certified</td>\n",
       "    </tr>\n",
       "    <tr>\n",
       "      <th>25479</th>\n",
       "      <td>EZYV25480</td>\n",
       "      <td>Asia</td>\n",
       "      <td>Bachelor's</td>\n",
       "      <td>Y</td>\n",
       "      <td>N</td>\n",
       "      <td>3195</td>\n",
       "      <td>1960</td>\n",
       "      <td>Midwest</td>\n",
       "      <td>70876.9100</td>\n",
       "      <td>Year</td>\n",
       "      <td>Y</td>\n",
       "      <td>Certified</td>\n",
       "    </tr>\n",
       "  </tbody>\n",
       "</table>\n",
       "<p>25480 rows × 12 columns</p>\n",
       "</div>"
      ],
      "text/plain": [
       "         case_id continent education_of_employee has_job_experience  \\\n",
       "0         EZYV01      Asia           High School                  N   \n",
       "1         EZYV02      Asia              Master's                  Y   \n",
       "2         EZYV03      Asia            Bachelor's                  N   \n",
       "3         EZYV04      Asia            Bachelor's                  N   \n",
       "4         EZYV05    Africa              Master's                  Y   \n",
       "...          ...       ...                   ...                ...   \n",
       "25475  EZYV25476      Asia            Bachelor's                  Y   \n",
       "25476  EZYV25477      Asia           High School                  Y   \n",
       "25477  EZYV25478      Asia              Master's                  Y   \n",
       "25478  EZYV25479      Asia              Master's                  Y   \n",
       "25479  EZYV25480      Asia            Bachelor's                  Y   \n",
       "\n",
       "      requires_job_training  no_of_employees  yr_of_estab  \\\n",
       "0                         N            14513         2007   \n",
       "1                         N             2412         2002   \n",
       "2                         Y            44444         2008   \n",
       "3                         N               98         1897   \n",
       "4                         N             1082         2005   \n",
       "...                     ...              ...          ...   \n",
       "25475                     Y             2601         2008   \n",
       "25476                     N             3274         2006   \n",
       "25477                     N             1121         1910   \n",
       "25478                     Y             1918         1887   \n",
       "25479                     N             3195         1960   \n",
       "\n",
       "      region_of_employment  prevailing_wage unit_of_wage full_time_position  \\\n",
       "0                     West         592.2029         Hour                  Y   \n",
       "1                Northeast       83425.6500         Year                  Y   \n",
       "2                     West      122996.8600         Year                  Y   \n",
       "3                     West       83434.0300         Year                  Y   \n",
       "4                    South      149907.3900         Year                  Y   \n",
       "...                    ...              ...          ...                ...   \n",
       "25475                South       77092.5700         Year                  Y   \n",
       "25476            Northeast      279174.7900         Year                  Y   \n",
       "25477                South      146298.8500         Year                  N   \n",
       "25478                 West       86154.7700         Year                  Y   \n",
       "25479              Midwest       70876.9100         Year                  Y   \n",
       "\n",
       "      case_status  \n",
       "0          Denied  \n",
       "1       Certified  \n",
       "2          Denied  \n",
       "3          Denied  \n",
       "4       Certified  \n",
       "...           ...  \n",
       "25475   Certified  \n",
       "25476   Certified  \n",
       "25477   Certified  \n",
       "25478   Certified  \n",
       "25479   Certified  \n",
       "\n",
       "[25480 rows x 12 columns]"
      ]
     },
     "execution_count": 5,
     "metadata": {},
     "output_type": "execute_result"
    }
   ],
   "source": [
    "import numpy as np\n",
    "import pandas as pd\n",
    "import matplotlib.pyplot as plt\n",
    "import seaborn as snc\n",
    "visa_df=pd.read_csv(r\"C:\\Users\\91937\\Downloads\\Visadataset.csv\")\n",
    "visa_df"
   ]
  },
  {
   "cell_type": "code",
   "execution_count": 62,
   "id": "d5b7d9bb-8b76-48f5-a782-233ffd6f4ed2",
   "metadata": {},
   "outputs": [
    {
     "data": {
      "text/html": [
       "<div>\n",
       "<style scoped>\n",
       "    .dataframe tbody tr th:only-of-type {\n",
       "        vertical-align: middle;\n",
       "    }\n",
       "\n",
       "    .dataframe tbody tr th {\n",
       "        vertical-align: top;\n",
       "    }\n",
       "\n",
       "    .dataframe thead th {\n",
       "        text-align: right;\n",
       "    }\n",
       "</style>\n",
       "<table border=\"1\" class=\"dataframe\">\n",
       "  <thead>\n",
       "    <tr style=\"text-align: right;\">\n",
       "      <th></th>\n",
       "      <th>case_id</th>\n",
       "      <th>continent</th>\n",
       "      <th>has_job_experience</th>\n",
       "      <th>requires_job_training</th>\n",
       "      <th>no_of_employees</th>\n",
       "      <th>yr_of_estab</th>\n",
       "      <th>region_of_employment</th>\n",
       "      <th>prevailing_wage</th>\n",
       "      <th>unit_of_wage</th>\n",
       "      <th>full_time_position</th>\n",
       "      <th>case_status</th>\n",
       "    </tr>\n",
       "  </thead>\n",
       "  <tbody>\n",
       "    <tr>\n",
       "      <th>0</th>\n",
       "      <td>EZYV01</td>\n",
       "      <td>1</td>\n",
       "      <td>0</td>\n",
       "      <td>0</td>\n",
       "      <td>14513</td>\n",
       "      <td>2007</td>\n",
       "      <td>4</td>\n",
       "      <td>592.2029</td>\n",
       "      <td>0</td>\n",
       "      <td>1</td>\n",
       "      <td>1</td>\n",
       "    </tr>\n",
       "    <tr>\n",
       "      <th>1</th>\n",
       "      <td>EZYV02</td>\n",
       "      <td>1</td>\n",
       "      <td>1</td>\n",
       "      <td>0</td>\n",
       "      <td>2412</td>\n",
       "      <td>2002</td>\n",
       "      <td>2</td>\n",
       "      <td>83425.6500</td>\n",
       "      <td>3</td>\n",
       "      <td>1</td>\n",
       "      <td>0</td>\n",
       "    </tr>\n",
       "    <tr>\n",
       "      <th>2</th>\n",
       "      <td>EZYV03</td>\n",
       "      <td>1</td>\n",
       "      <td>0</td>\n",
       "      <td>1</td>\n",
       "      <td>44444</td>\n",
       "      <td>2008</td>\n",
       "      <td>4</td>\n",
       "      <td>122996.8600</td>\n",
       "      <td>3</td>\n",
       "      <td>1</td>\n",
       "      <td>1</td>\n",
       "    </tr>\n",
       "    <tr>\n",
       "      <th>3</th>\n",
       "      <td>EZYV04</td>\n",
       "      <td>1</td>\n",
       "      <td>0</td>\n",
       "      <td>0</td>\n",
       "      <td>98</td>\n",
       "      <td>1897</td>\n",
       "      <td>4</td>\n",
       "      <td>83434.0300</td>\n",
       "      <td>3</td>\n",
       "      <td>1</td>\n",
       "      <td>1</td>\n",
       "    </tr>\n",
       "    <tr>\n",
       "      <th>4</th>\n",
       "      <td>EZYV05</td>\n",
       "      <td>0</td>\n",
       "      <td>1</td>\n",
       "      <td>0</td>\n",
       "      <td>1082</td>\n",
       "      <td>2005</td>\n",
       "      <td>3</td>\n",
       "      <td>149907.3900</td>\n",
       "      <td>3</td>\n",
       "      <td>1</td>\n",
       "      <td>0</td>\n",
       "    </tr>\n",
       "    <tr>\n",
       "      <th>...</th>\n",
       "      <td>...</td>\n",
       "      <td>...</td>\n",
       "      <td>...</td>\n",
       "      <td>...</td>\n",
       "      <td>...</td>\n",
       "      <td>...</td>\n",
       "      <td>...</td>\n",
       "      <td>...</td>\n",
       "      <td>...</td>\n",
       "      <td>...</td>\n",
       "      <td>...</td>\n",
       "    </tr>\n",
       "    <tr>\n",
       "      <th>25475</th>\n",
       "      <td>EZYV25476</td>\n",
       "      <td>1</td>\n",
       "      <td>1</td>\n",
       "      <td>1</td>\n",
       "      <td>2601</td>\n",
       "      <td>2008</td>\n",
       "      <td>3</td>\n",
       "      <td>77092.5700</td>\n",
       "      <td>3</td>\n",
       "      <td>1</td>\n",
       "      <td>0</td>\n",
       "    </tr>\n",
       "    <tr>\n",
       "      <th>25476</th>\n",
       "      <td>EZYV25477</td>\n",
       "      <td>1</td>\n",
       "      <td>1</td>\n",
       "      <td>0</td>\n",
       "      <td>3274</td>\n",
       "      <td>2006</td>\n",
       "      <td>2</td>\n",
       "      <td>279174.7900</td>\n",
       "      <td>3</td>\n",
       "      <td>1</td>\n",
       "      <td>0</td>\n",
       "    </tr>\n",
       "    <tr>\n",
       "      <th>25477</th>\n",
       "      <td>EZYV25478</td>\n",
       "      <td>1</td>\n",
       "      <td>1</td>\n",
       "      <td>0</td>\n",
       "      <td>1121</td>\n",
       "      <td>1910</td>\n",
       "      <td>3</td>\n",
       "      <td>146298.8500</td>\n",
       "      <td>3</td>\n",
       "      <td>0</td>\n",
       "      <td>0</td>\n",
       "    </tr>\n",
       "    <tr>\n",
       "      <th>25478</th>\n",
       "      <td>EZYV25479</td>\n",
       "      <td>1</td>\n",
       "      <td>1</td>\n",
       "      <td>1</td>\n",
       "      <td>1918</td>\n",
       "      <td>1887</td>\n",
       "      <td>4</td>\n",
       "      <td>86154.7700</td>\n",
       "      <td>3</td>\n",
       "      <td>1</td>\n",
       "      <td>0</td>\n",
       "    </tr>\n",
       "    <tr>\n",
       "      <th>25479</th>\n",
       "      <td>EZYV25480</td>\n",
       "      <td>1</td>\n",
       "      <td>1</td>\n",
       "      <td>0</td>\n",
       "      <td>3195</td>\n",
       "      <td>1960</td>\n",
       "      <td>1</td>\n",
       "      <td>70876.9100</td>\n",
       "      <td>3</td>\n",
       "      <td>1</td>\n",
       "      <td>0</td>\n",
       "    </tr>\n",
       "  </tbody>\n",
       "</table>\n",
       "<p>25480 rows × 11 columns</p>\n",
       "</div>"
      ],
      "text/plain": [
       "         case_id  continent  has_job_experience  requires_job_training  \\\n",
       "0         EZYV01          1                   0                      0   \n",
       "1         EZYV02          1                   1                      0   \n",
       "2         EZYV03          1                   0                      1   \n",
       "3         EZYV04          1                   0                      0   \n",
       "4         EZYV05          0                   1                      0   \n",
       "...          ...        ...                 ...                    ...   \n",
       "25475  EZYV25476          1                   1                      1   \n",
       "25476  EZYV25477          1                   1                      0   \n",
       "25477  EZYV25478          1                   1                      0   \n",
       "25478  EZYV25479          1                   1                      1   \n",
       "25479  EZYV25480          1                   1                      0   \n",
       "\n",
       "       no_of_employees  yr_of_estab  region_of_employment  prevailing_wage  \\\n",
       "0                14513         2007                     4         592.2029   \n",
       "1                 2412         2002                     2       83425.6500   \n",
       "2                44444         2008                     4      122996.8600   \n",
       "3                   98         1897                     4       83434.0300   \n",
       "4                 1082         2005                     3      149907.3900   \n",
       "...                ...          ...                   ...              ...   \n",
       "25475             2601         2008                     3       77092.5700   \n",
       "25476             3274         2006                     2      279174.7900   \n",
       "25477             1121         1910                     3      146298.8500   \n",
       "25478             1918         1887                     4       86154.7700   \n",
       "25479             3195         1960                     1       70876.9100   \n",
       "\n",
       "       unit_of_wage  full_time_position  case_status  \n",
       "0                 0                   1            1  \n",
       "1                 3                   1            0  \n",
       "2                 3                   1            1  \n",
       "3                 3                   1            1  \n",
       "4                 3                   1            0  \n",
       "...             ...                 ...          ...  \n",
       "25475             3                   1            0  \n",
       "25476             3                   1            0  \n",
       "25477             3                   0            0  \n",
       "25478             3                   1            0  \n",
       "25479             3                   1            0  \n",
       "\n",
       "[25480 rows x 11 columns]"
      ]
     },
     "execution_count": 62,
     "metadata": {},
     "output_type": "execute_result"
    }
   ],
   "source": [
    "visa_df.drop(['education_of_employee'],axis=1)"
   ]
  },
  {
   "cell_type": "code",
   "execution_count": null,
   "id": "8e71a07f-b41b-4e64-89b4-670369ab9814",
   "metadata": {},
   "outputs": [],
   "source": [
    "# the axis parameter tell us what to drop rows or column\n",
    "# axis=0   drop row\n",
    "# axis=1   drop column"
   ]
  },
  {
   "cell_type": "code",
   "execution_count": 9,
   "id": "a29d9142-029c-49c1-ae2e-96ca2e209ec2",
   "metadata": {},
   "outputs": [
    {
     "data": {
      "text/html": [
       "<div>\n",
       "<style scoped>\n",
       "    .dataframe tbody tr th:only-of-type {\n",
       "        vertical-align: middle;\n",
       "    }\n",
       "\n",
       "    .dataframe tbody tr th {\n",
       "        vertical-align: top;\n",
       "    }\n",
       "\n",
       "    .dataframe thead th {\n",
       "        text-align: right;\n",
       "    }\n",
       "</style>\n",
       "<table border=\"1\" class=\"dataframe\">\n",
       "  <thead>\n",
       "    <tr style=\"text-align: right;\">\n",
       "      <th></th>\n",
       "      <th>case_id</th>\n",
       "      <th>continent</th>\n",
       "      <th>education_of_employee</th>\n",
       "      <th>has_job_experience</th>\n",
       "      <th>requires_job_training</th>\n",
       "      <th>no_of_employees</th>\n",
       "      <th>yr_of_estab</th>\n",
       "      <th>region_of_employment</th>\n",
       "      <th>prevailing_wage</th>\n",
       "      <th>unit_of_wage</th>\n",
       "      <th>full_time_position</th>\n",
       "      <th>case_status</th>\n",
       "    </tr>\n",
       "  </thead>\n",
       "  <tbody>\n",
       "    <tr>\n",
       "      <th>0</th>\n",
       "      <td>EZYV01</td>\n",
       "      <td>Asia</td>\n",
       "      <td>High School</td>\n",
       "      <td>N</td>\n",
       "      <td>N</td>\n",
       "      <td>14513</td>\n",
       "      <td>2007</td>\n",
       "      <td>West</td>\n",
       "      <td>592.2029</td>\n",
       "      <td>Hour</td>\n",
       "      <td>Y</td>\n",
       "      <td>Denied</td>\n",
       "    </tr>\n",
       "    <tr>\n",
       "      <th>5</th>\n",
       "      <td>EZYV06</td>\n",
       "      <td>Asia</td>\n",
       "      <td>Master's</td>\n",
       "      <td>Y</td>\n",
       "      <td>N</td>\n",
       "      <td>2339</td>\n",
       "      <td>2012</td>\n",
       "      <td>South</td>\n",
       "      <td>78252.1400</td>\n",
       "      <td>Year</td>\n",
       "      <td>Y</td>\n",
       "      <td>Certified</td>\n",
       "    </tr>\n",
       "    <tr>\n",
       "      <th>6</th>\n",
       "      <td>EZYV07</td>\n",
       "      <td>Asia</td>\n",
       "      <td>Bachelor's</td>\n",
       "      <td>N</td>\n",
       "      <td>N</td>\n",
       "      <td>4985</td>\n",
       "      <td>1994</td>\n",
       "      <td>South</td>\n",
       "      <td>53635.3900</td>\n",
       "      <td>Year</td>\n",
       "      <td>Y</td>\n",
       "      <td>Certified</td>\n",
       "    </tr>\n",
       "    <tr>\n",
       "      <th>7</th>\n",
       "      <td>EZYV08</td>\n",
       "      <td>North America</td>\n",
       "      <td>Bachelor's</td>\n",
       "      <td>Y</td>\n",
       "      <td>N</td>\n",
       "      <td>3035</td>\n",
       "      <td>1924</td>\n",
       "      <td>West</td>\n",
       "      <td>418.2298</td>\n",
       "      <td>Hour</td>\n",
       "      <td>Y</td>\n",
       "      <td>Denied</td>\n",
       "    </tr>\n",
       "    <tr>\n",
       "      <th>8</th>\n",
       "      <td>EZYV09</td>\n",
       "      <td>Asia</td>\n",
       "      <td>Bachelor's</td>\n",
       "      <td>N</td>\n",
       "      <td>N</td>\n",
       "      <td>4810</td>\n",
       "      <td>2012</td>\n",
       "      <td>Midwest</td>\n",
       "      <td>74362.1900</td>\n",
       "      <td>Year</td>\n",
       "      <td>Y</td>\n",
       "      <td>Certified</td>\n",
       "    </tr>\n",
       "    <tr>\n",
       "      <th>...</th>\n",
       "      <td>...</td>\n",
       "      <td>...</td>\n",
       "      <td>...</td>\n",
       "      <td>...</td>\n",
       "      <td>...</td>\n",
       "      <td>...</td>\n",
       "      <td>...</td>\n",
       "      <td>...</td>\n",
       "      <td>...</td>\n",
       "      <td>...</td>\n",
       "      <td>...</td>\n",
       "      <td>...</td>\n",
       "    </tr>\n",
       "    <tr>\n",
       "      <th>25475</th>\n",
       "      <td>EZYV25476</td>\n",
       "      <td>Asia</td>\n",
       "      <td>Bachelor's</td>\n",
       "      <td>Y</td>\n",
       "      <td>Y</td>\n",
       "      <td>2601</td>\n",
       "      <td>2008</td>\n",
       "      <td>South</td>\n",
       "      <td>77092.5700</td>\n",
       "      <td>Year</td>\n",
       "      <td>Y</td>\n",
       "      <td>Certified</td>\n",
       "    </tr>\n",
       "    <tr>\n",
       "      <th>25476</th>\n",
       "      <td>EZYV25477</td>\n",
       "      <td>Asia</td>\n",
       "      <td>High School</td>\n",
       "      <td>Y</td>\n",
       "      <td>N</td>\n",
       "      <td>3274</td>\n",
       "      <td>2006</td>\n",
       "      <td>Northeast</td>\n",
       "      <td>279174.7900</td>\n",
       "      <td>Year</td>\n",
       "      <td>Y</td>\n",
       "      <td>Certified</td>\n",
       "    </tr>\n",
       "    <tr>\n",
       "      <th>25477</th>\n",
       "      <td>EZYV25478</td>\n",
       "      <td>Asia</td>\n",
       "      <td>Master's</td>\n",
       "      <td>Y</td>\n",
       "      <td>N</td>\n",
       "      <td>1121</td>\n",
       "      <td>1910</td>\n",
       "      <td>South</td>\n",
       "      <td>146298.8500</td>\n",
       "      <td>Year</td>\n",
       "      <td>N</td>\n",
       "      <td>Certified</td>\n",
       "    </tr>\n",
       "    <tr>\n",
       "      <th>25478</th>\n",
       "      <td>EZYV25479</td>\n",
       "      <td>Asia</td>\n",
       "      <td>Master's</td>\n",
       "      <td>Y</td>\n",
       "      <td>Y</td>\n",
       "      <td>1918</td>\n",
       "      <td>1887</td>\n",
       "      <td>West</td>\n",
       "      <td>86154.7700</td>\n",
       "      <td>Year</td>\n",
       "      <td>Y</td>\n",
       "      <td>Certified</td>\n",
       "    </tr>\n",
       "    <tr>\n",
       "      <th>25479</th>\n",
       "      <td>EZYV25480</td>\n",
       "      <td>Asia</td>\n",
       "      <td>Bachelor's</td>\n",
       "      <td>Y</td>\n",
       "      <td>N</td>\n",
       "      <td>3195</td>\n",
       "      <td>1960</td>\n",
       "      <td>Midwest</td>\n",
       "      <td>70876.9100</td>\n",
       "      <td>Year</td>\n",
       "      <td>Y</td>\n",
       "      <td>Certified</td>\n",
       "    </tr>\n",
       "  </tbody>\n",
       "</table>\n",
       "<p>25476 rows × 12 columns</p>\n",
       "</div>"
      ],
      "text/plain": [
       "         case_id      continent education_of_employee has_job_experience  \\\n",
       "0         EZYV01           Asia           High School                  N   \n",
       "5         EZYV06           Asia              Master's                  Y   \n",
       "6         EZYV07           Asia            Bachelor's                  N   \n",
       "7         EZYV08  North America            Bachelor's                  Y   \n",
       "8         EZYV09           Asia            Bachelor's                  N   \n",
       "...          ...            ...                   ...                ...   \n",
       "25475  EZYV25476           Asia            Bachelor's                  Y   \n",
       "25476  EZYV25477           Asia           High School                  Y   \n",
       "25477  EZYV25478           Asia              Master's                  Y   \n",
       "25478  EZYV25479           Asia              Master's                  Y   \n",
       "25479  EZYV25480           Asia            Bachelor's                  Y   \n",
       "\n",
       "      requires_job_training  no_of_employees  yr_of_estab  \\\n",
       "0                         N            14513         2007   \n",
       "5                         N             2339         2012   \n",
       "6                         N             4985         1994   \n",
       "7                         N             3035         1924   \n",
       "8                         N             4810         2012   \n",
       "...                     ...              ...          ...   \n",
       "25475                     Y             2601         2008   \n",
       "25476                     N             3274         2006   \n",
       "25477                     N             1121         1910   \n",
       "25478                     Y             1918         1887   \n",
       "25479                     N             3195         1960   \n",
       "\n",
       "      region_of_employment  prevailing_wage unit_of_wage full_time_position  \\\n",
       "0                     West         592.2029         Hour                  Y   \n",
       "5                    South       78252.1400         Year                  Y   \n",
       "6                    South       53635.3900         Year                  Y   \n",
       "7                     West         418.2298         Hour                  Y   \n",
       "8                  Midwest       74362.1900         Year                  Y   \n",
       "...                    ...              ...          ...                ...   \n",
       "25475                South       77092.5700         Year                  Y   \n",
       "25476            Northeast      279174.7900         Year                  Y   \n",
       "25477                South      146298.8500         Year                  N   \n",
       "25478                 West       86154.7700         Year                  Y   \n",
       "25479              Midwest       70876.9100         Year                  Y   \n",
       "\n",
       "      case_status  \n",
       "0          Denied  \n",
       "5       Certified  \n",
       "6       Certified  \n",
       "7          Denied  \n",
       "8       Certified  \n",
       "...           ...  \n",
       "25475   Certified  \n",
       "25476   Certified  \n",
       "25477   Certified  \n",
       "25478   Certified  \n",
       "25479   Certified  \n",
       "\n",
       "[25476 rows x 12 columns]"
      ]
     },
     "execution_count": 9,
     "metadata": {},
     "output_type": "execute_result"
    }
   ],
   "source": [
    "visa_df.drop([1,2,3,4],axis=0)\n"
   ]
  },
  {
   "cell_type": "code",
   "execution_count": 23,
   "id": "1082cfda-a4b5-48d1-ad62-3bcd23ca8156",
   "metadata": {},
   "outputs": [],
   "source": [
    "dtypes=dict(visa_df.dtypes)\n",
    "cat=[i for i,j in dtypes.items() if j=='object']\n",
    "num=[i for i,j in dtypes.items() if j!='object']"
   ]
  },
  {
   "cell_type": "code",
   "execution_count": 25,
   "id": "b9985838-97af-4fe7-9c82-98ff0cde9539",
   "metadata": {},
   "outputs": [
    {
     "data": {
      "text/plain": [
       "['no_of_employees', 'yr_of_estab', 'prevailing_wage']"
      ]
     },
     "execution_count": 25,
     "metadata": {},
     "output_type": "execute_result"
    }
   ],
   "source": [
    "num"
   ]
  },
  {
   "cell_type": "code",
   "execution_count": 27,
   "id": "4b17f676-0b79-4e86-bbec-f074278261c3",
   "metadata": {},
   "outputs": [
    {
     "data": {
      "text/plain": [
       "['case_id',\n",
       " 'continent',\n",
       " 'education_of_employee',\n",
       " 'has_job_experience',\n",
       " 'requires_job_training',\n",
       " 'region_of_employment',\n",
       " 'unit_of_wage',\n",
       " 'full_time_position',\n",
       " 'case_status']"
      ]
     },
     "execution_count": 27,
     "metadata": {},
     "output_type": "execute_result"
    }
   ],
   "source": [
    "cat"
   ]
  },
  {
   "cell_type": "markdown",
   "id": "c092b247-e539-4b0a-b0bf-0ad866b6751b",
   "metadata": {},
   "source": [
    "-variet:variables\n",
    "-Bi variet:two variables analysis\n",
    "-Multi variet: more than variables anlaysis\n"
   ]
  },
  {
   "cell_type": "code",
   "execution_count": 30,
   "id": "8ec7019b-3944-4c08-aabb-0e493d84918c",
   "metadata": {},
   "outputs": [
    {
     "ename": "SyntaxError",
     "evalue": "invalid syntax (751378811.py, line 1)",
     "output_type": "error",
     "traceback": [
      "\u001b[1;36m  Cell \u001b[1;32mIn[30], line 1\u001b[1;36m\u001b[0m\n\u001b[1;33m    -total how many obseravtion:25480\u001b[0m\n\u001b[1;37m           ^\u001b[0m\n\u001b[1;31mSyntaxError\u001b[0m\u001b[1;31m:\u001b[0m invalid syntax\n"
     ]
    }
   ],
   "source": [
    "-total how many obseravtion:25480\n",
    "-how manny FRON asia:16861\n"
   ]
  },
  {
   "cell_type": "code",
   "execution_count": 36,
   "id": "133ba9c3-9478-4d5b-a8bc-8a1a0aca81fe",
   "metadata": {},
   "outputs": [
    {
     "data": {
      "text/plain": [
       "case_status\n",
       "Certified    17018\n",
       "Denied        8462\n",
       "Name: count, dtype: int64"
      ]
     },
     "execution_count": 36,
     "metadata": {},
     "output_type": "execute_result"
    }
   ],
   "source": [
    "case_status=visa_df['case_status'].value_counts()\n",
    "case_status"
   ]
  },
  {
   "cell_type": "code",
   "execution_count": 34,
   "id": "d9866dac-4457-454d-b7d7-7fcba9375fe5",
   "metadata": {},
   "outputs": [
    {
     "data": {
      "text/plain": [
       "continent\n",
       "Asia             16861\n",
       "Europe            3732\n",
       "North America     3292\n",
       "South America      852\n",
       "Africa             551\n",
       "Oceania            192\n",
       "Name: count, dtype: int64"
      ]
     },
     "execution_count": 34,
     "metadata": {},
     "output_type": "execute_result"
    }
   ],
   "source": [
    "continent=visa_df['continent'].value_counts()\n",
    "continent"
   ]
  },
  {
   "cell_type": "code",
   "execution_count": 19,
   "id": "e99df27f-0ab1-4c12-b717-4b8c53aa9b57",
   "metadata": {},
   "outputs": [
    {
     "data": {
      "text/plain": [
       "(0, 25480)"
      ]
     },
     "execution_count": 19,
     "metadata": {},
     "output_type": "execute_result"
    }
   ],
   "source": [
    "\n",
    "certi=visa_df['case_status']=='Certified'\n",
    "denied=visa_df['case_status']=='Denied'\n",
    "con=visa_df['continent']=='Asia'\n",
    "certi_data=certi & con\n",
    "denied_data=denied & con\n",
    "\n",
    "\n",
    "len(visa_df[certi_data]),len(visa_df[denied_data])\n"
   ]
  },
  {
   "cell_type": "code",
   "execution_count": 59,
   "id": "82a120bc-ee91-49d5-929b-6a066e9d931b",
   "metadata": {},
   "outputs": [
    {
     "data": {
      "text/plain": [
       "([('Asia', 0)], [('Asia', 0)])"
      ]
     },
     "execution_count": 59,
     "metadata": {},
     "output_type": "execute_result"
    }
   ],
   "source": [
    "labels=visa_df['continent'].value_counts().keys()\n",
    "certi_count,den_count=[],[]\n",
    "for i in labels:\n",
    "    certi=visa_df['case_status']=='certified'\n",
    "    denied=visa_df['case_status']=='denied'\n",
    "    con=visa_df['continent']==i\n",
    "    certi_data=certi & con\n",
    "    denied_data=denied & con\n",
    "    certi_count.append((i,len(visa_df[certi_data])))\n",
    "    den_count.append((i,len(visa_df[denied_data])))\n",
    "certi_count,den_count"
   ]
  },
  {
   "cell_type": "code",
   "execution_count": 65,
   "id": "1cbc9256-4db7-411f-bf7c-4e4bfd605cae",
   "metadata": {},
   "outputs": [
    {
     "name": "stdout",
     "output_type": "stream",
     "text": [
      "['Asia']\n",
      "[('Asia', 0)]\n"
     ]
    }
   ],
   "source": [
    "print(certi_count)\n",
    "print(den_count)"
   ]
  },
  {
   "cell_type": "code",
   "execution_count": 91,
   "id": "715198bd-0b23-4f60-aa51-d5bf1a6583f6",
   "metadata": {},
   "outputs": [
    {
     "data": {
      "text/plain": [
       "Index(['Asia', 'Europe', 'North America', 'South America', 'Africa',\n",
       "       'Oceania'],\n",
       "      dtype='object', name='continent')"
      ]
     },
     "execution_count": 91,
     "metadata": {},
     "output_type": "execute_result"
    }
   ],
   "source": [
    "labels=visa_df['continent'].value_counts().keys()\n",
    "labels"
   ]
  },
  {
   "cell_type": "code",
   "execution_count": null,
   "id": "00c79011-e870-44ea-9e77-d788dd3e6560",
   "metadata": {},
   "outputs": [],
   "source": [
    "label=visa_df['continent'].value_counts().keys()\n",
    "cer"
   ]
  },
  {
   "cell_type": "code",
   "execution_count": 71,
   "id": "b5c4295d-f413-4eb9-8f20-71ed010b2e51",
   "metadata": {},
   "outputs": [
    {
     "data": {
      "text/html": [
       "<div>\n",
       "<style scoped>\n",
       "    .dataframe tbody tr th:only-of-type {\n",
       "        vertical-align: middle;\n",
       "    }\n",
       "\n",
       "    .dataframe tbody tr th {\n",
       "        vertical-align: top;\n",
       "    }\n",
       "\n",
       "    .dataframe thead th {\n",
       "        text-align: right;\n",
       "    }\n",
       "</style>\n",
       "<table border=\"1\" class=\"dataframe\">\n",
       "  <thead>\n",
       "    <tr style=\"text-align: right;\">\n",
       "      <th>case_status</th>\n",
       "      <th>Denied</th>\n",
       "    </tr>\n",
       "    <tr>\n",
       "      <th>continent</th>\n",
       "      <th></th>\n",
       "    </tr>\n",
       "  </thead>\n",
       "  <tbody>\n",
       "    <tr>\n",
       "      <th>Asia</th>\n",
       "      <td>25480</td>\n",
       "    </tr>\n",
       "  </tbody>\n",
       "</table>\n",
       "</div>"
      ],
      "text/plain": [
       "case_status  Denied\n",
       "continent          \n",
       "Asia          25480"
      ]
     },
     "execution_count": 71,
     "metadata": {},
     "output_type": "execute_result"
    }
   ],
   "source": [
    "col1=visa_df['case_status']\n",
    "col2=visa_df['continent']\n",
    "r1=pd.crosstab(col2,col1)\n",
    "r1"
   ]
  },
  {
   "cell_type": "code",
   "execution_count": 17,
   "id": "4d8a4009-f400-4a6c-8027-990ec44fdda1",
   "metadata": {},
   "outputs": [
    {
     "data": {
      "text/plain": [
       "<Axes: xlabel='continent'>"
      ]
     },
     "execution_count": 17,
     "metadata": {},
     "output_type": "execute_result"
    },
    {
     "data": {
      "image/png": "[encoded data removed]",
      "text/plain": [
       "<Figure size 640x480 with 1 Axes>"
      ]
     },
     "metadata": {},
     "output_type": "display_data"
    }
   ],
   "source": [
    "r1.plot(kind='bar')"
   ]
  },
  {
   "cell_type": "code",
   "execution_count": 21,
   "id": "07fbc831-5b04-4731-a36a-7bc0a7ac255a",
   "metadata": {},
   "outputs": [
    {
     "data": {
      "text/html": [
       "<div>\n",
       "<style scoped>\n",
       "    .dataframe tbody tr th:only-of-type {\n",
       "        vertical-align: middle;\n",
       "    }\n",
       "\n",
       "    .dataframe tbody tr th {\n",
       "        vertical-align: top;\n",
       "    }\n",
       "\n",
       "    .dataframe thead tr th {\n",
       "        text-align: left;\n",
       "    }\n",
       "\n",
       "    .dataframe thead tr:last-of-type th {\n",
       "        text-align: right;\n",
       "    }\n",
       "</style>\n",
       "<table border=\"1\" class=\"dataframe\">\n",
       "  <thead>\n",
       "    <tr>\n",
       "      <th>case_status</th>\n",
       "      <th colspan=\"4\" halign=\"left\">Certified</th>\n",
       "      <th colspan=\"4\" halign=\"left\">Denied</th>\n",
       "    </tr>\n",
       "    <tr>\n",
       "      <th>education_of_employee</th>\n",
       "      <th>Bachelor's</th>\n",
       "      <th>Doctorate</th>\n",
       "      <th>High School</th>\n",
       "      <th>Master's</th>\n",
       "      <th>Bachelor's</th>\n",
       "      <th>Doctorate</th>\n",
       "      <th>High School</th>\n",
       "      <th>Master's</th>\n",
       "    </tr>\n",
       "    <tr>\n",
       "      <th>continent</th>\n",
       "      <th></th>\n",
       "      <th></th>\n",
       "      <th></th>\n",
       "      <th></th>\n",
       "      <th></th>\n",
       "      <th></th>\n",
       "      <th></th>\n",
       "      <th></th>\n",
       "    </tr>\n",
       "  </thead>\n",
       "  <tbody>\n",
       "    <tr>\n",
       "      <th>Africa</th>\n",
       "      <td>81</td>\n",
       "      <td>43</td>\n",
       "      <td>23</td>\n",
       "      <td>250</td>\n",
       "      <td>62</td>\n",
       "      <td>11</td>\n",
       "      <td>43</td>\n",
       "      <td>38</td>\n",
       "    </tr>\n",
       "    <tr>\n",
       "      <th>Asia</th>\n",
       "      <td>4407</td>\n",
       "      <td>780</td>\n",
       "      <td>676</td>\n",
       "      <td>5149</td>\n",
       "      <td>2761</td>\n",
       "      <td>143</td>\n",
       "      <td>1614</td>\n",
       "      <td>1331</td>\n",
       "    </tr>\n",
       "    <tr>\n",
       "      <th>Europe</th>\n",
       "      <td>1040</td>\n",
       "      <td>788</td>\n",
       "      <td>162</td>\n",
       "      <td>967</td>\n",
       "      <td>259</td>\n",
       "      <td>58</td>\n",
       "      <td>328</td>\n",
       "      <td>130</td>\n",
       "    </tr>\n",
       "    <tr>\n",
       "      <th>North America</th>\n",
       "      <td>641</td>\n",
       "      <td>207</td>\n",
       "      <td>210</td>\n",
       "      <td>979</td>\n",
       "      <td>584</td>\n",
       "      <td>51</td>\n",
       "      <td>191</td>\n",
       "      <td>429</td>\n",
       "    </tr>\n",
       "    <tr>\n",
       "      <th>Oceania</th>\n",
       "      <td>38</td>\n",
       "      <td>19</td>\n",
       "      <td>19</td>\n",
       "      <td>46</td>\n",
       "      <td>28</td>\n",
       "      <td>3</td>\n",
       "      <td>17</td>\n",
       "      <td>22</td>\n",
       "    </tr>\n",
       "    <tr>\n",
       "      <th>South America</th>\n",
       "      <td>160</td>\n",
       "      <td>75</td>\n",
       "      <td>74</td>\n",
       "      <td>184</td>\n",
       "      <td>173</td>\n",
       "      <td>14</td>\n",
       "      <td>63</td>\n",
       "      <td>109</td>\n",
       "    </tr>\n",
       "  </tbody>\n",
       "</table>\n",
       "</div>"
      ],
      "text/plain": [
       "case_status            Certified                                    Denied  \\\n",
       "education_of_employee Bachelor's Doctorate High School Master's Bachelor's   \n",
       "continent                                                                    \n",
       "Africa                        81        43          23      250         62   \n",
       "Asia                        4407       780         676     5149       2761   \n",
       "Europe                      1040       788         162      967        259   \n",
       "North America                641       207         210      979        584   \n",
       "Oceania                       38        19          19       46         28   \n",
       "South America                160        75          74      184        173   \n",
       "\n",
       "case_status                                           \n",
       "education_of_employee Doctorate High School Master's  \n",
       "continent                                             \n",
       "Africa                       11          43       38  \n",
       "Asia                        143        1614     1331  \n",
       "Europe                       58         328      130  \n",
       "North America                51         191      429  \n",
       "Oceania                       3          17       22  \n",
       "South America                14          63      109  "
      ]
     },
     "execution_count": 21,
     "metadata": {},
     "output_type": "execute_result"
    }
   ],
   "source": [
    "col1=visa_df['case_status']\n",
    "col2=visa_df['continent']\n",
    "col3=visa_df['education_of_employee']\n",
    "Id=col2\n",
    "cols=[col1,col3]\n",
    "r1=pd.crosstab(col2,cols)\n",
    "r1"
   ]
  },
  {
   "cell_type": "code",
   "execution_count": null,
   "id": "eb076991-9ff1-421d-9cb3-9460d8f39796",
   "metadata": {},
   "outputs": [],
   "source": []
  },
  {
   "cell_type": "code",
   "execution_count": 23,
   "id": "c0aa8be8-8c9b-4edf-b8ef-74885ac25736",
   "metadata": {},
   "outputs": [
    {
     "data": {
      "image/png": "[encoded data removed]",
      "text/plain": [
       "<Figure size 640x480 with 1 Axes>"
      ]
     },
     "metadata": {},
     "output_type": "display_data"
    }
   ],
   "source": [
    "r1=r1.plot(kind='bar')"
   ]
  },
  {
   "cell_type": "markdown",
   "id": "6c8e4db1-faac-43d0-99e8-36c47f078fb5",
   "metadata": {},
   "source": [
    "**numerical column analysis**"
   ]
  },
  {
   "cell_type": "code",
   "execution_count": null,
   "id": "41b5643b-5797-426d-8414-3ecff19ffabe",
   "metadata": {},
   "outputs": [],
   "source": [
    "-scatter\n",
    "-coreleation"
   ]
  },
  {
   "cell_type": "code",
   "execution_count": 129,
   "id": "702fd8d6-7a86-4c33-b36c-bbee3bb21628",
   "metadata": {},
   "outputs": [
    {
     "data": {
      "text/plain": [
       "<matplotlib.collections.PathCollection at 0x24f179236e0>"
      ]
     },
     "execution_count": 129,
     "metadata": {},
     "output_type": "execute_result"
    },
    {
     "data": {
      "image/png": "[encoded data removed]",
      "text/plain": [
       "<Figure size 640x480 with 1 Axes>"
      ]
     },
     "metadata": {},
     "output_type": "display_data"
    }
   ],
   "source": [
    "x=range(1,11)\n",
    "y=range(1,11)\n",
    "plt.scatter(x,y,c='Red',s=50)"
   ]
  },
  {
   "cell_type": "code",
   "execution_count": 127,
   "id": "2f169410-b6ea-4238-985f-12eb5cc5c5f5",
   "metadata": {},
   "outputs": [
    {
     "data": {
      "text/plain": [
       "[<matplotlib.lines.Line2D at 0x24f17a8a480>]"
      ]
     },
     "execution_count": 127,
     "metadata": {},
     "output_type": "execute_result"
    },
    {
     "data": {
      "image/png": "[encoded data removed]",
      "text/plain": [
       "<Figure size 640x480 with 1 Axes>"
      ]
     },
     "metadata": {},
     "output_type": "display_data"
    }
   ],
   "source": [
    "x=range(1,11)\n",
    "y=range(1,11)\n",
    "plt.scatter(x,y,c='Red',s=50)\n",
    "plt.plot(x,y)"
   ]
  },
  {
   "cell_type": "code",
   "execution_count": 17,
   "id": "96de7785-4051-471f-b3b2-225067004f2a",
   "metadata": {},
   "outputs": [
    {
     "data": {
      "text/plain": [
       "[<matplotlib.lines.Line2D at 0x22cdc7c3260>]"
      ]
     },
     "execution_count": 17,
     "metadata": {},
     "output_type": "execute_result"
    },
    {
     "data": {
      "image/png": "[encoded data removed]",
      "text/plain": [
       "<Figure size 640x480 with 1 Axes>"
      ]
     },
     "metadata": {},
     "output_type": "display_data"
    }
   ],
   "source": [
    "x=range(-4,5)\n",
    "y=[i*i for i in x]\n",
    "plt.scatter(x,y,c='Red',s=50)\n",
    "plt.plot(x,y)"
   ]
  },
  {
   "cell_type": "code",
   "execution_count": 134,
   "id": "cd12c46c-de1e-411e-a03c-96c08a5f03ef",
   "metadata": {},
   "outputs": [
    {
     "data": {
      "text/plain": [
       "['no_of_employees', 'yr_of_estab', 'prevailing_wage']"
      ]
     },
     "execution_count": 134,
     "metadata": {},
     "output_type": "execute_result"
    }
   ],
   "source": [
    "num"
   ]
  },
  {
   "cell_type": "code",
   "execution_count": 183,
   "id": "b0fb9c55-64ff-46d7-8b82-b018b457b996",
   "metadata": {},
   "outputs": [
    {
     "data": {
      "text/plain": [
       "<matplotlib.collections.PathCollection at 0x1a69f8e2150>"
      ]
     },
     "execution_count": 183,
     "metadata": {},
     "output_type": "execute_result"
    },
    {
     "data": {
      "image/png": "[encoded data removed]",
      "text/plain": [
       "<Figure size 1200x400 with 3 Axes>"
      ]
     },
     "metadata": {},
     "output_type": "display_data"
    }
   ],
   "source": [
    "col1=visa_df['no_of_employees']\n",
    "col2=visa_df['yr_of_estab']\n",
    "col3=visa_df['prevailing_wage']\n",
    "plt.figure(figsize=(12,4))\n",
    "plt.subplot(1,3,1)\n",
    "plt.scatter(col1,col2)\n",
    "\n",
    "plt.subplot(1,3,2)\n",
    "plt.scatter(col1,col3)\n",
    "\n",
    "plt.subplot(1,3,3)\n",
    "plt.scatter(col2,col3)\n"
   ]
  },
  {
   "cell_type": "code",
   "execution_count": 97,
   "id": "e337e149-f3b7-49e8-ad27-c8f5300b2947",
   "metadata": {},
   "outputs": [
    {
     "data": {
      "text/plain": [
       "<matplotlib.collections.PathCollection at 0x22ce499ba40>"
      ]
     },
     "execution_count": 97,
     "metadata": {},
     "output_type": "execute_result"
    },
    {
     "data": {
      "image/png": "[encoded data removed]",
      "text/plain": [
       "<Figure size 1200x400 with 3 Axes>"
      ]
     },
     "metadata": {},
     "output_type": "display_data"
    }
   ],
   "source": [
    "col1=visa_df['no_of_employees']\n",
    "col2=visa_df['yr_of_estab']\n",
    "col3=visa_df['prevailing_wage']\n",
    "plt.figure(figsize=(12,4))\n",
    "plt.subplot(1,3,1).scatter(col1,col2)\n",
    "plt.subplot(1,3,2).scatter(col1,col3)\n",
    "plt.subplot(1,3,3).scatter(col2,col3)\n"
   ]
  },
  {
   "cell_type": "markdown",
   "id": "e953161c-e21d-425f-b845-fcae70753d55",
   "metadata": {},
   "source": [
    "**correlation**"
   ]
  },
  {
   "cell_type": "code",
   "execution_count": 113,
   "id": "4f6f8b2b-ff2a-46a8-bb9f-6d4432ecd53f",
   "metadata": {},
   "outputs": [
    {
     "data": {
      "text/html": [
       "<div>\n",
       "<style scoped>\n",
       "    .dataframe tbody tr th:only-of-type {\n",
       "        vertical-align: middle;\n",
       "    }\n",
       "\n",
       "    .dataframe tbody tr th {\n",
       "        vertical-align: top;\n",
       "    }\n",
       "\n",
       "    .dataframe thead th {\n",
       "        text-align: right;\n",
       "    }\n",
       "</style>\n",
       "<table border=\"1\" class=\"dataframe\">\n",
       "  <thead>\n",
       "    <tr style=\"text-align: right;\">\n",
       "      <th></th>\n",
       "      <th>no_of_employees</th>\n",
       "      <th>yr_of_estab</th>\n",
       "      <th>prevailing_wage</th>\n",
       "    </tr>\n",
       "  </thead>\n",
       "  <tbody>\n",
       "    <tr>\n",
       "      <th>no_of_employees</th>\n",
       "      <td>1.000000</td>\n",
       "      <td>-0.017770</td>\n",
       "      <td>-0.009523</td>\n",
       "    </tr>\n",
       "    <tr>\n",
       "      <th>yr_of_estab</th>\n",
       "      <td>-0.017770</td>\n",
       "      <td>1.000000</td>\n",
       "      <td>0.012342</td>\n",
       "    </tr>\n",
       "    <tr>\n",
       "      <th>prevailing_wage</th>\n",
       "      <td>-0.009523</td>\n",
       "      <td>0.012342</td>\n",
       "      <td>1.000000</td>\n",
       "    </tr>\n",
       "  </tbody>\n",
       "</table>\n",
       "</div>"
      ],
      "text/plain": [
       "                 no_of_employees  yr_of_estab  prevailing_wage\n",
       "no_of_employees         1.000000    -0.017770        -0.009523\n",
       "yr_of_estab            -0.017770     1.000000         0.012342\n",
       "prevailing_wage        -0.009523     0.012342         1.000000"
      ]
     },
     "execution_count": 113,
     "metadata": {},
     "output_type": "execute_result"
    }
   ],
   "source": [
    "visa_df.corr(numeric_only=True)"
   ]
  },
  {
   "cell_type": "code",
   "execution_count": 105,
   "id": "15f5cc86-5055-4bce-8ebc-488e1f787d82",
   "metadata": {},
   "outputs": [
    {
     "data": {
      "text/html": [
       "<div>\n",
       "<style scoped>\n",
       "    .dataframe tbody tr th:only-of-type {\n",
       "        vertical-align: middle;\n",
       "    }\n",
       "\n",
       "    .dataframe tbody tr th {\n",
       "        vertical-align: top;\n",
       "    }\n",
       "\n",
       "    .dataframe thead th {\n",
       "        text-align: right;\n",
       "    }\n",
       "</style>\n",
       "<table border=\"1\" class=\"dataframe\">\n",
       "  <thead>\n",
       "    <tr style=\"text-align: right;\">\n",
       "      <th></th>\n",
       "      <th>fixed acidity</th>\n",
       "      <th>volatile acidity</th>\n",
       "      <th>citric acid</th>\n",
       "      <th>residual sugar</th>\n",
       "      <th>chlorides</th>\n",
       "      <th>free sulfur dioxide</th>\n",
       "      <th>total sulfur dioxide</th>\n",
       "      <th>density</th>\n",
       "      <th>pH</th>\n",
       "      <th>sulphates</th>\n",
       "      <th>alcohol</th>\n",
       "      <th>quality</th>\n",
       "    </tr>\n",
       "  </thead>\n",
       "  <tbody>\n",
       "    <tr>\n",
       "      <th>0</th>\n",
       "      <td>7.4</td>\n",
       "      <td>0.700</td>\n",
       "      <td>0.00</td>\n",
       "      <td>1.9</td>\n",
       "      <td>0.076</td>\n",
       "      <td>11.0</td>\n",
       "      <td>34.0</td>\n",
       "      <td>0.99780</td>\n",
       "      <td>3.51</td>\n",
       "      <td>0.56</td>\n",
       "      <td>9.4</td>\n",
       "      <td>5</td>\n",
       "    </tr>\n",
       "    <tr>\n",
       "      <th>1</th>\n",
       "      <td>7.8</td>\n",
       "      <td>0.880</td>\n",
       "      <td>0.00</td>\n",
       "      <td>2.6</td>\n",
       "      <td>0.098</td>\n",
       "      <td>25.0</td>\n",
       "      <td>67.0</td>\n",
       "      <td>0.99680</td>\n",
       "      <td>3.20</td>\n",
       "      <td>0.68</td>\n",
       "      <td>9.8</td>\n",
       "      <td>5</td>\n",
       "    </tr>\n",
       "    <tr>\n",
       "      <th>2</th>\n",
       "      <td>7.8</td>\n",
       "      <td>0.760</td>\n",
       "      <td>0.04</td>\n",
       "      <td>2.3</td>\n",
       "      <td>0.092</td>\n",
       "      <td>15.0</td>\n",
       "      <td>54.0</td>\n",
       "      <td>0.99700</td>\n",
       "      <td>3.26</td>\n",
       "      <td>0.65</td>\n",
       "      <td>9.8</td>\n",
       "      <td>5</td>\n",
       "    </tr>\n",
       "    <tr>\n",
       "      <th>3</th>\n",
       "      <td>11.2</td>\n",
       "      <td>0.280</td>\n",
       "      <td>0.56</td>\n",
       "      <td>1.9</td>\n",
       "      <td>0.075</td>\n",
       "      <td>17.0</td>\n",
       "      <td>60.0</td>\n",
       "      <td>0.99800</td>\n",
       "      <td>3.16</td>\n",
       "      <td>0.58</td>\n",
       "      <td>9.8</td>\n",
       "      <td>6</td>\n",
       "    </tr>\n",
       "    <tr>\n",
       "      <th>4</th>\n",
       "      <td>7.4</td>\n",
       "      <td>0.700</td>\n",
       "      <td>0.00</td>\n",
       "      <td>1.9</td>\n",
       "      <td>0.076</td>\n",
       "      <td>11.0</td>\n",
       "      <td>34.0</td>\n",
       "      <td>0.99780</td>\n",
       "      <td>3.51</td>\n",
       "      <td>0.56</td>\n",
       "      <td>9.4</td>\n",
       "      <td>5</td>\n",
       "    </tr>\n",
       "    <tr>\n",
       "      <th>...</th>\n",
       "      <td>...</td>\n",
       "      <td>...</td>\n",
       "      <td>...</td>\n",
       "      <td>...</td>\n",
       "      <td>...</td>\n",
       "      <td>...</td>\n",
       "      <td>...</td>\n",
       "      <td>...</td>\n",
       "      <td>...</td>\n",
       "      <td>...</td>\n",
       "      <td>...</td>\n",
       "      <td>...</td>\n",
       "    </tr>\n",
       "    <tr>\n",
       "      <th>1594</th>\n",
       "      <td>6.2</td>\n",
       "      <td>0.600</td>\n",
       "      <td>0.08</td>\n",
       "      <td>2.0</td>\n",
       "      <td>0.090</td>\n",
       "      <td>32.0</td>\n",
       "      <td>44.0</td>\n",
       "      <td>0.99490</td>\n",
       "      <td>3.45</td>\n",
       "      <td>0.58</td>\n",
       "      <td>10.5</td>\n",
       "      <td>5</td>\n",
       "    </tr>\n",
       "    <tr>\n",
       "      <th>1595</th>\n",
       "      <td>5.9</td>\n",
       "      <td>0.550</td>\n",
       "      <td>0.10</td>\n",
       "      <td>2.2</td>\n",
       "      <td>0.062</td>\n",
       "      <td>39.0</td>\n",
       "      <td>51.0</td>\n",
       "      <td>0.99512</td>\n",
       "      <td>3.52</td>\n",
       "      <td>0.76</td>\n",
       "      <td>11.2</td>\n",
       "      <td>6</td>\n",
       "    </tr>\n",
       "    <tr>\n",
       "      <th>1596</th>\n",
       "      <td>6.3</td>\n",
       "      <td>0.510</td>\n",
       "      <td>0.13</td>\n",
       "      <td>2.3</td>\n",
       "      <td>0.076</td>\n",
       "      <td>29.0</td>\n",
       "      <td>40.0</td>\n",
       "      <td>0.99574</td>\n",
       "      <td>3.42</td>\n",
       "      <td>0.75</td>\n",
       "      <td>11.0</td>\n",
       "      <td>6</td>\n",
       "    </tr>\n",
       "    <tr>\n",
       "      <th>1597</th>\n",
       "      <td>5.9</td>\n",
       "      <td>0.645</td>\n",
       "      <td>0.12</td>\n",
       "      <td>2.0</td>\n",
       "      <td>0.075</td>\n",
       "      <td>32.0</td>\n",
       "      <td>44.0</td>\n",
       "      <td>0.99547</td>\n",
       "      <td>3.57</td>\n",
       "      <td>0.71</td>\n",
       "      <td>10.2</td>\n",
       "      <td>5</td>\n",
       "    </tr>\n",
       "    <tr>\n",
       "      <th>1598</th>\n",
       "      <td>6.0</td>\n",
       "      <td>0.310</td>\n",
       "      <td>0.47</td>\n",
       "      <td>3.6</td>\n",
       "      <td>0.067</td>\n",
       "      <td>18.0</td>\n",
       "      <td>42.0</td>\n",
       "      <td>0.99549</td>\n",
       "      <td>3.39</td>\n",
       "      <td>0.66</td>\n",
       "      <td>11.0</td>\n",
       "      <td>6</td>\n",
       "    </tr>\n",
       "  </tbody>\n",
       "</table>\n",
       "<p>1599 rows × 12 columns</p>\n",
       "</div>"
      ],
      "text/plain": [
       "      fixed acidity  volatile acidity  citric acid  residual sugar  chlorides  \\\n",
       "0               7.4             0.700         0.00             1.9      0.076   \n",
       "1               7.8             0.880         0.00             2.6      0.098   \n",
       "2               7.8             0.760         0.04             2.3      0.092   \n",
       "3              11.2             0.280         0.56             1.9      0.075   \n",
       "4               7.4             0.700         0.00             1.9      0.076   \n",
       "...             ...               ...          ...             ...        ...   \n",
       "1594            6.2             0.600         0.08             2.0      0.090   \n",
       "1595            5.9             0.550         0.10             2.2      0.062   \n",
       "1596            6.3             0.510         0.13             2.3      0.076   \n",
       "1597            5.9             0.645         0.12             2.0      0.075   \n",
       "1598            6.0             0.310         0.47             3.6      0.067   \n",
       "\n",
       "      free sulfur dioxide  total sulfur dioxide  density    pH  sulphates  \\\n",
       "0                    11.0                  34.0  0.99780  3.51       0.56   \n",
       "1                    25.0                  67.0  0.99680  3.20       0.68   \n",
       "2                    15.0                  54.0  0.99700  3.26       0.65   \n",
       "3                    17.0                  60.0  0.99800  3.16       0.58   \n",
       "4                    11.0                  34.0  0.99780  3.51       0.56   \n",
       "...                   ...                   ...      ...   ...        ...   \n",
       "1594                 32.0                  44.0  0.99490  3.45       0.58   \n",
       "1595                 39.0                  51.0  0.99512  3.52       0.76   \n",
       "1596                 29.0                  40.0  0.99574  3.42       0.75   \n",
       "1597                 32.0                  44.0  0.99547  3.57       0.71   \n",
       "1598                 18.0                  42.0  0.99549  3.39       0.66   \n",
       "\n",
       "      alcohol  quality  \n",
       "0         9.4        5  \n",
       "1         9.8        5  \n",
       "2         9.8        5  \n",
       "3         9.8        6  \n",
       "4         9.4        5  \n",
       "...       ...      ...  \n",
       "1594     10.5        5  \n",
       "1595     11.2        6  \n",
       "1596     11.0        6  \n",
       "1597     10.2        5  \n",
       "1598     11.0        6  \n",
       "\n",
       "[1599 rows x 12 columns]"
      ]
     },
     "execution_count": 105,
     "metadata": {},
     "output_type": "execute_result"
    }
   ],
   "source": [
    "wine_quality=pd.read_csv(r'C:\\Users\\91937\\Downloads\\winequality_red.csv')\n",
    "wine_quality"
   ]
  },
  {
   "cell_type": "code",
   "execution_count": 119,
   "id": "5fc0516e-6973-4ee8-a773-8ad7fa76f81d",
   "metadata": {},
   "outputs": [
    {
     "data": {
      "text/html": [
       "<div>\n",
       "<style scoped>\n",
       "    .dataframe tbody tr th:only-of-type {\n",
       "        vertical-align: middle;\n",
       "    }\n",
       "\n",
       "    .dataframe tbody tr th {\n",
       "        vertical-align: top;\n",
       "    }\n",
       "\n",
       "    .dataframe thead th {\n",
       "        text-align: right;\n",
       "    }\n",
       "</style>\n",
       "<table border=\"1\" class=\"dataframe\">\n",
       "  <thead>\n",
       "    <tr style=\"text-align: right;\">\n",
       "      <th></th>\n",
       "      <th>no_of_employees</th>\n",
       "      <th>yr_of_estab</th>\n",
       "      <th>prevailing_wage</th>\n",
       "    </tr>\n",
       "  </thead>\n",
       "  <tbody>\n",
       "    <tr>\n",
       "      <th>no_of_employees</th>\n",
       "      <td>1.000000</td>\n",
       "      <td>-0.017770</td>\n",
       "      <td>-0.009523</td>\n",
       "    </tr>\n",
       "    <tr>\n",
       "      <th>yr_of_estab</th>\n",
       "      <td>-0.017770</td>\n",
       "      <td>1.000000</td>\n",
       "      <td>0.012342</td>\n",
       "    </tr>\n",
       "    <tr>\n",
       "      <th>prevailing_wage</th>\n",
       "      <td>-0.009523</td>\n",
       "      <td>0.012342</td>\n",
       "      <td>1.000000</td>\n",
       "    </tr>\n",
       "  </tbody>\n",
       "</table>\n",
       "</div>"
      ],
      "text/plain": [
       "                 no_of_employees  yr_of_estab  prevailing_wage\n",
       "no_of_employees         1.000000    -0.017770        -0.009523\n",
       "yr_of_estab            -0.017770     1.000000         0.012342\n",
       "prevailing_wage        -0.009523     0.012342         1.000000"
      ]
     },
     "execution_count": 119,
     "metadata": {},
     "output_type": "execute_result"
    }
   ],
   "source": [
    "visa_df.corr(numeric_only=True)"
   ]
  },
  {
   "cell_type": "code",
   "execution_count": 173,
   "id": "96975a76-6816-4f7d-bc03-beac680653ca",
   "metadata": {},
   "outputs": [
    {
     "data": {
      "text/plain": [
       "<Axes: >"
      ]
     },
     "execution_count": 173,
     "metadata": {},
     "output_type": "execute_result"
    },
    {
     "data": {
      "image/png": "[encoded data removed]",
      "text/plain": [
       "<Figure size 640x480 with 2 Axes>"
      ]
     },
     "metadata": {},
     "output_type": "display_data"
    }
   ],
   "source": [
    "import seaborn as sns\n",
    "visa_corr=visa_df.corr(numeric_only=True)\n",
    "sns.heatmap(visa_corr,\n",
    "           annot=True,\n",
    "           cmap='Blues')\n"
   ]
  },
  {
   "cell_type": "code",
   "execution_count": 189,
   "id": "07f7d136-73cd-4f7e-8954-6b91ac3a7fd6",
   "metadata": {},
   "outputs": [
    {
     "data": {
      "text/plain": [
       "<matplotlib.collections.PathCollection at 0x24f1c8828a0>"
      ]
     },
     "execution_count": 189,
     "metadata": {},
     "output_type": "execute_result"
    },
    {
     "data": {
      "image/png": "[encoded data removed]",
      "text/plain": [
       "<Figure size 1200x400 with 3 Axes>"
      ]
     },
     "metadata": {},
     "output_type": "display_data"
    }
   ],
   "source": [
    "col1=wine_quality['fixed acidity']\n",
    "col2=wine_quality['pH']\n",
    "col3=wine_quality['density']\n",
    "plt.figure(figsize=(12,4))\n",
    "plt.subplot(1,3,1).scatter(col1,col2)\n",
    "plt.subplot(1,3,2).scatter(col1,col3)\n",
    "plt.subplot(1,3,3).scatter(col2,col3)"
   ]
  },
  {
   "cell_type": "code",
   "execution_count": null,
   "id": "d56e590c-03b2-48d5-b6a3-70a9ee2c02e2",
   "metadata": {},
   "outputs": [],
   "source": [
    "-generally we need good correlation between input and output columns \n",
    "-we dont want a releation between input column \n"
   ]
  },
  {
   "cell_type": "code",
   "execution_count": 203,
   "id": "dad21bc2-645e-417a-8513-e8b4c2f7882b",
   "metadata": {},
   "outputs": [
    {
     "data": {
      "text/html": [
       "<div>\n",
       "<style scoped>\n",
       "    .dataframe tbody tr th:only-of-type {\n",
       "        vertical-align: middle;\n",
       "    }\n",
       "\n",
       "    .dataframe tbody tr th {\n",
       "        vertical-align: top;\n",
       "    }\n",
       "\n",
       "    .dataframe thead th {\n",
       "        text-align: right;\n",
       "    }\n",
       "</style>\n",
       "<table border=\"1\" class=\"dataframe\">\n",
       "  <thead>\n",
       "    <tr style=\"text-align: right;\">\n",
       "      <th></th>\n",
       "      <th>quality</th>\n",
       "    </tr>\n",
       "  </thead>\n",
       "  <tbody>\n",
       "    <tr>\n",
       "      <th>quality</th>\n",
       "      <td>1.000000</td>\n",
       "    </tr>\n",
       "    <tr>\n",
       "      <th>alcohol</th>\n",
       "      <td>0.476166</td>\n",
       "    </tr>\n",
       "    <tr>\n",
       "      <th>sulphates</th>\n",
       "      <td>0.251397</td>\n",
       "    </tr>\n",
       "    <tr>\n",
       "      <th>citric acid</th>\n",
       "      <td>0.226373</td>\n",
       "    </tr>\n",
       "    <tr>\n",
       "      <th>fixed acidity</th>\n",
       "      <td>0.124052</td>\n",
       "    </tr>\n",
       "    <tr>\n",
       "      <th>residual sugar</th>\n",
       "      <td>0.013732</td>\n",
       "    </tr>\n",
       "    <tr>\n",
       "      <th>free sulfur dioxide</th>\n",
       "      <td>-0.050656</td>\n",
       "    </tr>\n",
       "    <tr>\n",
       "      <th>pH</th>\n",
       "      <td>-0.057731</td>\n",
       "    </tr>\n",
       "    <tr>\n",
       "      <th>chlorides</th>\n",
       "      <td>-0.128907</td>\n",
       "    </tr>\n",
       "    <tr>\n",
       "      <th>density</th>\n",
       "      <td>-0.174919</td>\n",
       "    </tr>\n",
       "    <tr>\n",
       "      <th>total sulfur dioxide</th>\n",
       "      <td>-0.185100</td>\n",
       "    </tr>\n",
       "    <tr>\n",
       "      <th>volatile acidity</th>\n",
       "      <td>-0.390558</td>\n",
       "    </tr>\n",
       "  </tbody>\n",
       "</table>\n",
       "</div>"
      ],
      "text/plain": [
       "                       quality\n",
       "quality               1.000000\n",
       "alcohol               0.476166\n",
       "sulphates             0.251397\n",
       "citric acid           0.226373\n",
       "fixed acidity         0.124052\n",
       "residual sugar        0.013732\n",
       "free sulfur dioxide  -0.050656\n",
       "pH                   -0.057731\n",
       "chlorides            -0.128907\n",
       "density              -0.174919\n",
       "total sulfur dioxide -0.185100\n",
       "volatile acidity     -0.390558"
      ]
     },
     "execution_count": 203,
     "metadata": {},
     "output_type": "execute_result"
    }
   ],
   "source": [
    "pd.DataFrame(wine_corr.iloc[:,-1]).sort_values(by='quality',ascending=False)"
   ]
  },
  {
   "cell_type": "code",
   "execution_count": null,
   "id": "7862992b-8379-4117-ae37-7dbb69632963",
   "metadata": {},
   "outputs": [],
   "source": [
    "#EDA\n",
    "\n",
    "\n",
    "1.data proceses\n",
    "-missing values analysis\n",
    "-data type missmatch\n",
    "\n",
    "2.data analysiszation\n",
    "-categorical\n",
    "-numerical\n",
    "-bi varient\n",
    "0multivarient\n",
    "-outlier analysis\n",
    "\n",
    "3.feactue engineering\n",
    "-impute the outliers\n",
    "-ml needs number Eng to number : Encoding\n",
    "-scallling :standratazation and normalization\n",
    "-transformation :convert into normal distrubation\n"
   ]
  },
  {
   "cell_type": "code",
   "execution_count": 201,
   "id": "0ec4a5ee-4000-4846-bb05-c48eb6ea736e",
   "metadata": {},
   "outputs": [
    {
     "data": {
      "text/plain": [
       "['case_id',\n",
       " 'continent',\n",
       " 'education_of_employee',\n",
       " 'has_job_experience',\n",
       " 'requires_job_training',\n",
       " 'region_of_employment',\n",
       " 'unit_of_wage',\n",
       " 'full_time_position',\n",
       " 'case_status']"
      ]
     },
     "execution_count": 201,
     "metadata": {},
     "output_type": "execute_result"
    }
   ],
   "source": [
    "import matplotlib.pyplot as plt\n",
    "import pandas as pd\n",
    "import numpy as np\n",
    "import seaborn as sns\n",
    "visa_df=pd.read_csv(r\"C:\\Users\\91937\\Downloads\\Visadataset.csv\")\n",
    "dtypes=dict(visa_df.dtypes)\n",
    "cat=[i for i,j in dtypes.items() if j=='object']\n",
    "num=[i for i,j in dtypes.items() if j!='object']\n",
    "cat"
   ]
  },
  {
   "cell_type": "markdown",
   "id": "9cf41734-c1d3-4095-a9d8-23e8e69c7ab4",
   "metadata": {},
   "source": [
    "**case_status**"
   ]
  },
  {
   "cell_type": "code",
   "execution_count": 204,
   "id": "6cae76e1-f89c-435e-9cce-148f25c82f10",
   "metadata": {},
   "outputs": [
    {
     "data": {
      "text/plain": [
       "array(['Denied', 'Certified'], dtype=object)"
      ]
     },
     "execution_count": 204,
     "metadata": {},
     "output_type": "execute_result"
    }
   ],
   "source": [
    "#step-1:how many unique labels are their\n",
    "visa_df['case_status'].unique()"
   ]
  },
  {
   "cell_type": "code",
   "execution_count": 206,
   "id": "6e5a13f5-f2f0-4ba5-a010-40c20370c0ab",
   "metadata": {},
   "outputs": [
    {
     "data": {
      "text/plain": [
       "{'Certified': 0, 'Denied': 1}"
      ]
     },
     "execution_count": 206,
     "metadata": {},
     "output_type": "execute_result"
    }
   ],
   "source": [
    "#step-2: create a dictonary by asssign a value to the labels \n",
    "#        follw the alphabetic order\n",
    "#        python index start with zero\n",
    "d={'Certified' :0,'Denied':1}\n",
    "d"
   ]
  },
  {
   "cell_type": "code",
   "execution_count": null,
   "id": "3ace65cd-c1c6-4ff8-bdf8-dc8237827c40",
   "metadata": {},
   "outputs": [],
   "source": []
  },
  {
   "cell_type": "code",
   "execution_count": 208,
   "id": "b6de6119-e0e8-480a-a3a8-e89c6a8fd4bf",
   "metadata": {},
   "outputs": [
    {
     "data": {
      "text/plain": [
       "0        1\n",
       "1        0\n",
       "2        1\n",
       "3        1\n",
       "4        0\n",
       "        ..\n",
       "25475    0\n",
       "25476    0\n",
       "25477    0\n",
       "25478    0\n",
       "25479    0\n",
       "Name: case_status, Length: 25480, dtype: int64"
      ]
     },
     "execution_count": 208,
     "metadata": {},
     "output_type": "execute_result"
    }
   ],
   "source": [
    "#step-3: map these dictonary to original value\n",
    "visa_df['case_status']=visa_df['case_status'].map(d)\n",
    "visa_df['case_status']"
   ]
  },
  {
   "cell_type": "code",
   "execution_count": 177,
   "id": "8070ae6a-90ff-49a3-9e04-8a809edca47b",
   "metadata": {},
   "outputs": [
    {
     "data": {
      "text/plain": [
       "0        1\n",
       "1        0\n",
       "2        1\n",
       "3        1\n",
       "4        0\n",
       "        ..\n",
       "25475    0\n",
       "25476    0\n",
       "25477    0\n",
       "25478    0\n",
       "25479    0\n",
       "Name: case_status, Length: 25480, dtype: int64"
      ]
     },
     "execution_count": 177,
     "metadata": {},
     "output_type": "execute_result"
    }
   ],
   "source": [
    "#read the data again\n",
    "visa_df=pd.read_csv(r\"C:\\Users\\91937\\Downloads\\Visadataset.csv\")\n",
    "visa_df['case_status'].unique()\n",
    "d={'Certified' :0,'Denied':1}\n",
    "visa_df['case_status']=visa_df['case_status'].map(d)\n",
    "visa_df['case_status']"
   ]
  },
  {
   "cell_type": "code",
   "execution_count": 32,
   "id": "51848cf3-85d8-4809-8e9d-2cb661244fc9",
   "metadata": {},
   "outputs": [
    {
     "data": {
      "text/plain": [
       "array(['Asia', 'Africa', 'North America', 'Europe', 'South America',\n",
       "       'Oceania'], dtype=object)"
      ]
     },
     "execution_count": 32,
     "metadata": {},
     "output_type": "execute_result"
    }
   ],
   "source": [
    "visa_df=pd.read_csv(r\"C:\\Users\\91937\\Downloads\\Visadataset.csv\")\n",
    "visa_df['continent'].unique()"
   ]
  },
  {
   "cell_type": "code",
   "execution_count": 169,
   "id": "1a2370d8-f788-4cab-aad5-3df87c67762a",
   "metadata": {},
   "outputs": [
    {
     "data": {
      "text/plain": [
       "0        0\n",
       "1        0\n",
       "2        0\n",
       "3        0\n",
       "4        1\n",
       "        ..\n",
       "25475    0\n",
       "25476    0\n",
       "25477    0\n",
       "25478    0\n",
       "25479    0\n",
       "Name: continent, Length: 25480, dtype: int64"
      ]
     },
     "execution_count": 169,
     "metadata": {},
     "output_type": "execute_result"
    }
   ],
   "source": [
    "visa_df=pd.read_csv(r\"C:\\Users\\91937\\Downloads\\Visadataset.csv\")\n",
    "visa_df['continent'].unique()\n",
    "d={'Asia' :0,'Africa':1,'North America':2, 'Europe':3, 'South America':4,\n",
    "       'Oceania':5}\n",
    "visa_df['continent']=visa_df['continent'].map(d)\n",
    "visa_df['continent']"
   ]
  },
  {
   "cell_type": "code",
   "execution_count": 48,
   "id": "20455ff9-ca3e-4fcd-be34-d024be86618f",
   "metadata": {},
   "outputs": [
    {
     "data": {
      "text/plain": [
       "array(['Asia', 'Africa', 'North America', 'Europe', 'South America',\n",
       "       'Oceania'], dtype=object)"
      ]
     },
     "execution_count": 48,
     "metadata": {},
     "output_type": "execute_result"
    }
   ],
   "source": [
    "visa_df=pd.read_csv(r\"C:\\Users\\91937\\Downloads\\Visadataset.csv\")\n",
    "visa_df['continent'].unique()"
   ]
  },
  {
   "cell_type": "code",
   "execution_count": 234,
   "id": "21a8f066-ec70-46b2-b0fb-349eab2f2806",
   "metadata": {},
   "outputs": [],
   "source": [
    "d={}\n",
    "d['Asia']=0\n",
    "d['Africa']=1\n",
    "#d[keys]=i\n"
   ]
  },
  {
   "cell_type": "code",
   "execution_count": 236,
   "id": "e959fe5d-e023-41aa-bcee-a399baa19793",
   "metadata": {},
   "outputs": [
    {
     "data": {
      "text/plain": [
       "{'Asia': 0,\n",
       " 'Africa': 1,\n",
       " 'North America': 2,\n",
       " 'Europe': 3,\n",
       " 'South America': 4,\n",
       " 'Oceania': 5}"
      ]
     },
     "execution_count": 236,
     "metadata": {},
     "output_type": "execute_result"
    }
   ],
   "source": [
    "labels=visa_df['continent'].unique()\n",
    "d={}\n",
    "for i in range(len(labels)):\n",
    "    d[labels[i]]=i\n",
    "d"
   ]
  },
  {
   "cell_type": "code",
   "execution_count": 244,
   "id": "8f227dec-69f9-4268-9214-fea69e64fe7a",
   "metadata": {},
   "outputs": [
    {
     "data": {
      "text/plain": [
       "{'Asia': 0,\n",
       " 'Africa': 1,\n",
       " 'North America': 2,\n",
       " 'Europe': 3,\n",
       " 'South America': 4,\n",
       " 'Oceania': 5}"
      ]
     },
     "execution_count": 244,
     "metadata": {},
     "output_type": "execute_result"
    }
   ],
   "source": [
    "labels=visa_df['continent'].unique()\n",
    "d={}\n",
    "for i in range (len(labels)):\n",
    "    d[labels[i]]=i\n",
    "d\n"
   ]
  },
  {
   "cell_type": "code",
   "execution_count": 54,
   "id": "52b47223-a8d3-40f3-9194-2170af3c2fb4",
   "metadata": {},
   "outputs": [
    {
     "data": {
      "text/plain": [
       "{'Asia': 0,\n",
       " 'Africa': 1,\n",
       " 'North America': 2,\n",
       " 'Europe': 3,\n",
       " 'South America': 4,\n",
       " 'Oceania': 5}"
      ]
     },
     "execution_count": 54,
     "metadata": {},
     "output_type": "execute_result"
    }
   ],
   "source": [
    "#{<keys>:<values> for i in range}\n",
    "labels=visa_df['continent'].unique()\n",
    "d={labels[i]:i for i in range(len (labels))}\n",
    "d"
   ]
  },
  {
   "cell_type": "code",
   "execution_count": 56,
   "id": "692bd2c1-3e93-4861-8b97-4b25c819f8f3",
   "metadata": {},
   "outputs": [],
   "source": [
    "visa_df=pd.read_csv(r\"C:\\Users\\91937\\Downloads\\Visadataset.csv\")\n",
    "labels=visa_df['continent'].unique()\n",
    "d={labels[i]:i for i in range(len (labels))}\n",
    "visa_df['continent']=visa_df['continent'].map(d)"
   ]
  },
  {
   "cell_type": "code",
   "execution_count": 171,
   "id": "0dec8968-e480-46b5-840d-fd11eb24bacd",
   "metadata": {},
   "outputs": [
    {
     "data": {
      "text/plain": [
       "0        0\n",
       "1        0\n",
       "2        0\n",
       "3        0\n",
       "4        1\n",
       "        ..\n",
       "25475    0\n",
       "25476    0\n",
       "25477    0\n",
       "25478    0\n",
       "25479    0\n",
       "Name: continent, Length: 25480, dtype: int64"
      ]
     },
     "execution_count": 171,
     "metadata": {},
     "output_type": "execute_result"
    }
   ],
   "source": [
    "visa_df['continent']"
   ]
  },
  {
   "cell_type": "code",
   "execution_count": null,
   "id": "c62f5b78-acf6-4805-a237-263450d5d06c",
   "metadata": {},
   "outputs": [],
   "source": [
    " -sklearn  akk scikit_learn\n",
    "        -preprossing\n",
    "                -labelEncode\n",
    "-step-1:import matches\n",
    "-step-2:save the module\n",
    "-step-3:apply fit_transform \n",
    "        -fit means create a dictonary\n",
    "        -transform means apply dictonary so that data will be transformed\n"
   ]
  },
  {
   "cell_type": "code",
   "execution_count": 74,
   "id": "c002457b-19fc-41d9-a7df-56ce6b6ebce5",
   "metadata": {},
   "outputs": [],
   "source": [
    "visa_df=pd.read_csv(r\"C:\\Users\\91937\\Downloads\\Visadataset.csv\")"
   ]
  },
  {
   "cell_type": "code",
   "execution_count": 17,
   "id": "8ed9f395-fa94-4df6-ae1d-b231387f1f0c",
   "metadata": {},
   "outputs": [
    {
     "data": {
      "text/plain": [
       "0        1\n",
       "1        0\n",
       "2        1\n",
       "3        1\n",
       "4        0\n",
       "        ..\n",
       "25475    0\n",
       "25476    0\n",
       "25477    0\n",
       "25478    0\n",
       "25479    0\n",
       "Name: case_status, Length: 25480, dtype: int32"
      ]
     },
     "execution_count": 17,
     "metadata": {},
     "output_type": "execute_result"
    }
   ],
   "source": [
    "from sklearn.preprocessing import LabelEncoder\n",
    "le=LabelEncoder()\n",
    "visa_df['case_status']=le.fit_transform(visa_df['case_status'])\n",
    "visa_df['case_status']"
   ]
  },
  {
   "cell_type": "code",
   "execution_count": 44,
   "id": "32dc0769-01f9-4722-b14a-6a46fee11cf6",
   "metadata": {},
   "outputs": [
    {
     "data": {
      "text/plain": [
       "0        0\n",
       "1        0\n",
       "2        0\n",
       "3        0\n",
       "4        0\n",
       "        ..\n",
       "25475    0\n",
       "25476    0\n",
       "25477    0\n",
       "25478    0\n",
       "25479    0\n",
       "Name: has_job_experience, Length: 25480, dtype: int32"
      ]
     },
     "execution_count": 44,
     "metadata": {},
     "output_type": "execute_result"
    }
   ],
   "source": [
    "from sklearn.preprocessing import LabelEncoder\n",
    "le=LabelEncoder()\n",
    "visa_df['has_job_experience']=le.fit_transform(visa_df['has_job_experience'])\n",
    "visa_df['has_job_experience']"
   ]
  },
  {
   "cell_type": "code",
   "execution_count": 82,
   "id": "09149e94-613c-4775-a436-506b722e8c1e",
   "metadata": {},
   "outputs": [
    {
     "data": {
      "text/plain": [
       "array(['Asia', 'Asia', 'Asia', 'Asia', 'Africa'], dtype=object)"
      ]
     },
     "execution_count": 82,
     "metadata": {},
     "output_type": "execute_result"
    }
   ],
   "source": [
    "le.inverse_transform(visa_df['continent'])[:5]"
   ]
  },
  {
   "cell_type": "code",
   "execution_count": 46,
   "id": "a3236d46-6b23-429b-a49c-412eaf76f5a9",
   "metadata": {},
   "outputs": [
    {
     "data": {
      "text/plain": [
       "0        1\n",
       "1        0\n",
       "2        1\n",
       "3        1\n",
       "4        0\n",
       "        ..\n",
       "25475    0\n",
       "25476    0\n",
       "25477    0\n",
       "25478    0\n",
       "25479    0\n",
       "Name: case_status, Length: 25480, dtype: int32"
      ]
     },
     "execution_count": 46,
     "metadata": {},
     "output_type": "execute_result"
    }
   ],
   "source": [
    "\n",
    "from sklearn.preprocessing import LabelEncoder\n",
    "visa_df=pd.read_csv(r\"C:\\Users\\91937\\Downloads\\Visadataset.csv\")\n",
    "le=LabelEncoder()\n",
    "for i in cat[1:]:\n",
    "    visa_df[i]=le.fit_transform(visa_df[i])\n",
    "visa_df[i]"
   ]
  },
  {
   "cell_type": "code",
   "execution_count": null,
   "id": "25b5757b-6096-40fa-8898-21535476cea6",
   "metadata": {},
   "outputs": [],
   "source": [
    "**oneHotEncoder**\n",
    "\n",
    "-oneHot means at a time one will be ON(1) another will be\n",
    "|case_status|case_status_Denied|case_status_Certified\n",
    "-           |-                 |-\n",
    "Denied      |1                 |0\n",
    "certified   |0                 |1\n",
    "Certified   |0                 |1\n",
    "Denied      |1                 |0\n",
    "    "
   ]
  },
  {
   "cell_type": "code",
   "execution_count": 96,
   "id": "c493e6bc-851c-46f6-a5e5-dc06af5bd7fc",
   "metadata": {},
   "outputs": [
    {
     "data": {
      "text/html": [
       "<div>\n",
       "<style scoped>\n",
       "    .dataframe tbody tr th:only-of-type {\n",
       "        vertical-align: middle;\n",
       "    }\n",
       "\n",
       "    .dataframe tbody tr th {\n",
       "        vertical-align: top;\n",
       "    }\n",
       "\n",
       "    .dataframe thead th {\n",
       "        text-align: right;\n",
       "    }\n",
       "</style>\n",
       "<table border=\"1\" class=\"dataframe\">\n",
       "  <thead>\n",
       "    <tr style=\"text-align: right;\">\n",
       "      <th></th>\n",
       "      <th>case_id</th>\n",
       "      <th>no_of_employees</th>\n",
       "      <th>yr_of_estab</th>\n",
       "      <th>prevailing_wage</th>\n",
       "      <th>continent_Africa</th>\n",
       "      <th>continent_Asia</th>\n",
       "      <th>continent_Europe</th>\n",
       "      <th>continent_North America</th>\n",
       "      <th>continent_Oceania</th>\n",
       "      <th>continent_South America</th>\n",
       "      <th>...</th>\n",
       "      <th>region_of_employment_South</th>\n",
       "      <th>region_of_employment_West</th>\n",
       "      <th>unit_of_wage_Hour</th>\n",
       "      <th>unit_of_wage_Month</th>\n",
       "      <th>unit_of_wage_Week</th>\n",
       "      <th>unit_of_wage_Year</th>\n",
       "      <th>full_time_position_N</th>\n",
       "      <th>full_time_position_Y</th>\n",
       "      <th>case_status_Certified</th>\n",
       "      <th>case_status_Denied</th>\n",
       "    </tr>\n",
       "  </thead>\n",
       "  <tbody>\n",
       "    <tr>\n",
       "      <th>0</th>\n",
       "      <td>EZYV01</td>\n",
       "      <td>14513</td>\n",
       "      <td>2007</td>\n",
       "      <td>592.2029</td>\n",
       "      <td>0</td>\n",
       "      <td>1</td>\n",
       "      <td>0</td>\n",
       "      <td>0</td>\n",
       "      <td>0</td>\n",
       "      <td>0</td>\n",
       "      <td>...</td>\n",
       "      <td>0</td>\n",
       "      <td>1</td>\n",
       "      <td>1</td>\n",
       "      <td>0</td>\n",
       "      <td>0</td>\n",
       "      <td>0</td>\n",
       "      <td>0</td>\n",
       "      <td>1</td>\n",
       "      <td>0</td>\n",
       "      <td>1</td>\n",
       "    </tr>\n",
       "    <tr>\n",
       "      <th>1</th>\n",
       "      <td>EZYV02</td>\n",
       "      <td>2412</td>\n",
       "      <td>2002</td>\n",
       "      <td>83425.6500</td>\n",
       "      <td>0</td>\n",
       "      <td>1</td>\n",
       "      <td>0</td>\n",
       "      <td>0</td>\n",
       "      <td>0</td>\n",
       "      <td>0</td>\n",
       "      <td>...</td>\n",
       "      <td>0</td>\n",
       "      <td>0</td>\n",
       "      <td>0</td>\n",
       "      <td>0</td>\n",
       "      <td>0</td>\n",
       "      <td>1</td>\n",
       "      <td>0</td>\n",
       "      <td>1</td>\n",
       "      <td>1</td>\n",
       "      <td>0</td>\n",
       "    </tr>\n",
       "    <tr>\n",
       "      <th>2</th>\n",
       "      <td>EZYV03</td>\n",
       "      <td>44444</td>\n",
       "      <td>2008</td>\n",
       "      <td>122996.8600</td>\n",
       "      <td>0</td>\n",
       "      <td>1</td>\n",
       "      <td>0</td>\n",
       "      <td>0</td>\n",
       "      <td>0</td>\n",
       "      <td>0</td>\n",
       "      <td>...</td>\n",
       "      <td>0</td>\n",
       "      <td>1</td>\n",
       "      <td>0</td>\n",
       "      <td>0</td>\n",
       "      <td>0</td>\n",
       "      <td>1</td>\n",
       "      <td>0</td>\n",
       "      <td>1</td>\n",
       "      <td>0</td>\n",
       "      <td>1</td>\n",
       "    </tr>\n",
       "    <tr>\n",
       "      <th>3</th>\n",
       "      <td>EZYV04</td>\n",
       "      <td>98</td>\n",
       "      <td>1897</td>\n",
       "      <td>83434.0300</td>\n",
       "      <td>0</td>\n",
       "      <td>1</td>\n",
       "      <td>0</td>\n",
       "      <td>0</td>\n",
       "      <td>0</td>\n",
       "      <td>0</td>\n",
       "      <td>...</td>\n",
       "      <td>0</td>\n",
       "      <td>1</td>\n",
       "      <td>0</td>\n",
       "      <td>0</td>\n",
       "      <td>0</td>\n",
       "      <td>1</td>\n",
       "      <td>0</td>\n",
       "      <td>1</td>\n",
       "      <td>0</td>\n",
       "      <td>1</td>\n",
       "    </tr>\n",
       "    <tr>\n",
       "      <th>4</th>\n",
       "      <td>EZYV05</td>\n",
       "      <td>1082</td>\n",
       "      <td>2005</td>\n",
       "      <td>149907.3900</td>\n",
       "      <td>1</td>\n",
       "      <td>0</td>\n",
       "      <td>0</td>\n",
       "      <td>0</td>\n",
       "      <td>0</td>\n",
       "      <td>0</td>\n",
       "      <td>...</td>\n",
       "      <td>1</td>\n",
       "      <td>0</td>\n",
       "      <td>0</td>\n",
       "      <td>0</td>\n",
       "      <td>0</td>\n",
       "      <td>1</td>\n",
       "      <td>0</td>\n",
       "      <td>1</td>\n",
       "      <td>1</td>\n",
       "      <td>0</td>\n",
       "    </tr>\n",
       "    <tr>\n",
       "      <th>...</th>\n",
       "      <td>...</td>\n",
       "      <td>...</td>\n",
       "      <td>...</td>\n",
       "      <td>...</td>\n",
       "      <td>...</td>\n",
       "      <td>...</td>\n",
       "      <td>...</td>\n",
       "      <td>...</td>\n",
       "      <td>...</td>\n",
       "      <td>...</td>\n",
       "      <td>...</td>\n",
       "      <td>...</td>\n",
       "      <td>...</td>\n",
       "      <td>...</td>\n",
       "      <td>...</td>\n",
       "      <td>...</td>\n",
       "      <td>...</td>\n",
       "      <td>...</td>\n",
       "      <td>...</td>\n",
       "      <td>...</td>\n",
       "      <td>...</td>\n",
       "    </tr>\n",
       "    <tr>\n",
       "      <th>25475</th>\n",
       "      <td>EZYV25476</td>\n",
       "      <td>2601</td>\n",
       "      <td>2008</td>\n",
       "      <td>77092.5700</td>\n",
       "      <td>0</td>\n",
       "      <td>1</td>\n",
       "      <td>0</td>\n",
       "      <td>0</td>\n",
       "      <td>0</td>\n",
       "      <td>0</td>\n",
       "      <td>...</td>\n",
       "      <td>1</td>\n",
       "      <td>0</td>\n",
       "      <td>0</td>\n",
       "      <td>0</td>\n",
       "      <td>0</td>\n",
       "      <td>1</td>\n",
       "      <td>0</td>\n",
       "      <td>1</td>\n",
       "      <td>1</td>\n",
       "      <td>0</td>\n",
       "    </tr>\n",
       "    <tr>\n",
       "      <th>25476</th>\n",
       "      <td>EZYV25477</td>\n",
       "      <td>3274</td>\n",
       "      <td>2006</td>\n",
       "      <td>279174.7900</td>\n",
       "      <td>0</td>\n",
       "      <td>1</td>\n",
       "      <td>0</td>\n",
       "      <td>0</td>\n",
       "      <td>0</td>\n",
       "      <td>0</td>\n",
       "      <td>...</td>\n",
       "      <td>0</td>\n",
       "      <td>0</td>\n",
       "      <td>0</td>\n",
       "      <td>0</td>\n",
       "      <td>0</td>\n",
       "      <td>1</td>\n",
       "      <td>0</td>\n",
       "      <td>1</td>\n",
       "      <td>1</td>\n",
       "      <td>0</td>\n",
       "    </tr>\n",
       "    <tr>\n",
       "      <th>25477</th>\n",
       "      <td>EZYV25478</td>\n",
       "      <td>1121</td>\n",
       "      <td>1910</td>\n",
       "      <td>146298.8500</td>\n",
       "      <td>0</td>\n",
       "      <td>1</td>\n",
       "      <td>0</td>\n",
       "      <td>0</td>\n",
       "      <td>0</td>\n",
       "      <td>0</td>\n",
       "      <td>...</td>\n",
       "      <td>1</td>\n",
       "      <td>0</td>\n",
       "      <td>0</td>\n",
       "      <td>0</td>\n",
       "      <td>0</td>\n",
       "      <td>1</td>\n",
       "      <td>1</td>\n",
       "      <td>0</td>\n",
       "      <td>1</td>\n",
       "      <td>0</td>\n",
       "    </tr>\n",
       "    <tr>\n",
       "      <th>25478</th>\n",
       "      <td>EZYV25479</td>\n",
       "      <td>1918</td>\n",
       "      <td>1887</td>\n",
       "      <td>86154.7700</td>\n",
       "      <td>0</td>\n",
       "      <td>1</td>\n",
       "      <td>0</td>\n",
       "      <td>0</td>\n",
       "      <td>0</td>\n",
       "      <td>0</td>\n",
       "      <td>...</td>\n",
       "      <td>0</td>\n",
       "      <td>1</td>\n",
       "      <td>0</td>\n",
       "      <td>0</td>\n",
       "      <td>0</td>\n",
       "      <td>1</td>\n",
       "      <td>0</td>\n",
       "      <td>1</td>\n",
       "      <td>1</td>\n",
       "      <td>0</td>\n",
       "    </tr>\n",
       "    <tr>\n",
       "      <th>25479</th>\n",
       "      <td>EZYV25480</td>\n",
       "      <td>3195</td>\n",
       "      <td>1960</td>\n",
       "      <td>70876.9100</td>\n",
       "      <td>0</td>\n",
       "      <td>1</td>\n",
       "      <td>0</td>\n",
       "      <td>0</td>\n",
       "      <td>0</td>\n",
       "      <td>0</td>\n",
       "      <td>...</td>\n",
       "      <td>0</td>\n",
       "      <td>0</td>\n",
       "      <td>0</td>\n",
       "      <td>0</td>\n",
       "      <td>0</td>\n",
       "      <td>1</td>\n",
       "      <td>0</td>\n",
       "      <td>1</td>\n",
       "      <td>1</td>\n",
       "      <td>0</td>\n",
       "    </tr>\n",
       "  </tbody>\n",
       "</table>\n",
       "<p>25480 rows × 31 columns</p>\n",
       "</div>"
      ],
      "text/plain": [
       "         case_id  no_of_employees  yr_of_estab  prevailing_wage  \\\n",
       "0         EZYV01            14513         2007         592.2029   \n",
       "1         EZYV02             2412         2002       83425.6500   \n",
       "2         EZYV03            44444         2008      122996.8600   \n",
       "3         EZYV04               98         1897       83434.0300   \n",
       "4         EZYV05             1082         2005      149907.3900   \n",
       "...          ...              ...          ...              ...   \n",
       "25475  EZYV25476             2601         2008       77092.5700   \n",
       "25476  EZYV25477             3274         2006      279174.7900   \n",
       "25477  EZYV25478             1121         1910      146298.8500   \n",
       "25478  EZYV25479             1918         1887       86154.7700   \n",
       "25479  EZYV25480             3195         1960       70876.9100   \n",
       "\n",
       "       continent_Africa  continent_Asia  continent_Europe  \\\n",
       "0                     0               1                 0   \n",
       "1                     0               1                 0   \n",
       "2                     0               1                 0   \n",
       "3                     0               1                 0   \n",
       "4                     1               0                 0   \n",
       "...                 ...             ...               ...   \n",
       "25475                 0               1                 0   \n",
       "25476                 0               1                 0   \n",
       "25477                 0               1                 0   \n",
       "25478                 0               1                 0   \n",
       "25479                 0               1                 0   \n",
       "\n",
       "       continent_North America  continent_Oceania  continent_South America  \\\n",
       "0                            0                  0                        0   \n",
       "1                            0                  0                        0   \n",
       "2                            0                  0                        0   \n",
       "3                            0                  0                        0   \n",
       "4                            0                  0                        0   \n",
       "...                        ...                ...                      ...   \n",
       "25475                        0                  0                        0   \n",
       "25476                        0                  0                        0   \n",
       "25477                        0                  0                        0   \n",
       "25478                        0                  0                        0   \n",
       "25479                        0                  0                        0   \n",
       "\n",
       "       ...  region_of_employment_South  region_of_employment_West  \\\n",
       "0      ...                           0                          1   \n",
       "1      ...                           0                          0   \n",
       "2      ...                           0                          1   \n",
       "3      ...                           0                          1   \n",
       "4      ...                           1                          0   \n",
       "...    ...                         ...                        ...   \n",
       "25475  ...                           1                          0   \n",
       "25476  ...                           0                          0   \n",
       "25477  ...                           1                          0   \n",
       "25478  ...                           0                          1   \n",
       "25479  ...                           0                          0   \n",
       "\n",
       "       unit_of_wage_Hour  unit_of_wage_Month  unit_of_wage_Week  \\\n",
       "0                      1                   0                  0   \n",
       "1                      0                   0                  0   \n",
       "2                      0                   0                  0   \n",
       "3                      0                   0                  0   \n",
       "4                      0                   0                  0   \n",
       "...                  ...                 ...                ...   \n",
       "25475                  0                   0                  0   \n",
       "25476                  0                   0                  0   \n",
       "25477                  0                   0                  0   \n",
       "25478                  0                   0                  0   \n",
       "25479                  0                   0                  0   \n",
       "\n",
       "       unit_of_wage_Year  full_time_position_N  full_time_position_Y  \\\n",
       "0                      0                     0                     1   \n",
       "1                      1                     0                     1   \n",
       "2                      1                     0                     1   \n",
       "3                      1                     0                     1   \n",
       "4                      1                     0                     1   \n",
       "...                  ...                   ...                   ...   \n",
       "25475                  1                     0                     1   \n",
       "25476                  1                     0                     1   \n",
       "25477                  1                     1                     0   \n",
       "25478                  1                     0                     1   \n",
       "25479                  1                     0                     1   \n",
       "\n",
       "       case_status_Certified  case_status_Denied  \n",
       "0                          0                   1  \n",
       "1                          1                   0  \n",
       "2                          0                   1  \n",
       "3                          0                   1  \n",
       "4                          1                   0  \n",
       "...                      ...                 ...  \n",
       "25475                      1                   0  \n",
       "25476                      1                   0  \n",
       "25477                      1                   0  \n",
       "25478                      1                   0  \n",
       "25479                      1                   0  \n",
       "\n",
       "[25480 rows x 31 columns]"
      ]
     },
     "execution_count": 96,
     "metadata": {},
     "output_type": "execute_result"
    }
   ],
   "source": [
    "visa_df=pd.read_csv(r\"C:\\Users\\91937\\Downloads\\Visadataset.csv\")\n",
    "pd.get_dummies(visa_df,columns=cat[1:],dtype=int)"
   ]
  },
  {
   "cell_type": "code",
   "execution_count": null,
   "id": "a5457829-d420-4568-aec8-7259d3a72ab9",
   "metadata": {},
   "outputs": [],
   "source": [
    "**LabelEncode vs OneHotEncode**\n",
    "-generally we don not want a releation between input column\n",
    "-we need input column are **indepedent(x,y) **each other\n",
    "-we need input column are perpenducular each other \n",
    "-we need input column are orthogonal each other\n",
    "-we need input column are 90 degree phase shift each other\n",
    "-OneHotEncode will achieve new column\n",
    "-But OneHotEncoder create new column\n",
    "      -columns are ncrease means dimessions are increase\n",
    "      -more dimension data need more processiong time\n",
    "      -more dimension data  need more  information\n",
    "      -this is called Curse of Dimensionlity\n",
    "\n"
   ]
  },
  {
   "cell_type": "code",
   "execution_count": null,
   "id": "30fe95c9-e641-4891-a8db-380dad3711e3",
   "metadata": {},
   "outputs": [],
   "source": []
  }
 ],
 "metadata": {
  "kernelspec": {
   "display_name": "Python [conda env:base] *",
   "language": "python",
   "name": "conda-base-py"
  },
  "language_info": {
   "codemirror_mode": {
    "name": "ipython",
    "version": 3
   },
   "file_extension": ".py",
   "mimetype": "text/x-python",
   "name": "python",
   "nbconvert_exporter": "python",
   "pygments_lexer": "ipython3",
   "version": "3.12.7"
  }
 },
 "nbformat": 4,
 "nbformat_minor": 5
}
