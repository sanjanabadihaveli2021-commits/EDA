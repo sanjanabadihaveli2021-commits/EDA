{
 "cells": [
  {
   "cell_type": "code",
   "execution_count": 5,
   "id": "48995c40-45a4-4ce3-8508-2878908760b3",
   "metadata": {},
   "outputs": [
    {
     "data": {
      "text/html": [
       "<div>\n",
       "<style scoped>\n",
       "    .dataframe tbody tr th:only-of-type {\n",
       "        vertical-align: middle;\n",
       "    }\n",
       "\n",
       "    .dataframe tbody tr th {\n",
       "        vertical-align: top;\n",
       "    }\n",
       "\n",
       "    .dataframe thead th {\n",
       "        text-align: right;\n",
       "    }\n",
       "</style>\n",
       "<table border=\"1\" class=\"dataframe\">\n",
       "  <thead>\n",
       "    <tr style=\"text-align: right;\">\n",
       "      <th></th>\n",
       "      <th>case_id</th>\n",
       "      <th>continent</th>\n",
       "      <th>education_of_employee</th>\n",
       "      <th>has_job_experience</th>\n",
       "      <th>requires_job_training</th>\n",
       "      <th>no_of_employees</th>\n",
       "      <th>yr_of_estab</th>\n",
       "      <th>region_of_employment</th>\n",
       "      <th>prevailing_wage</th>\n",
       "      <th>unit_of_wage</th>\n",
       "      <th>full_time_position</th>\n",
       "      <th>case_status</th>\n",
       "    </tr>\n",
       "  </thead>\n",
       "  <tbody>\n",
       "    <tr>\n",
       "      <th>0</th>\n",
       "      <td>EZYV01</td>\n",
       "      <td>Asia</td>\n",
       "      <td>High School</td>\n",
       "      <td>N</td>\n",
       "      <td>N</td>\n",
       "      <td>14513</td>\n",
       "      <td>2007</td>\n",
       "      <td>West</td>\n",
       "      <td>592.2029</td>\n",
       "      <td>Hour</td>\n",
       "      <td>Y</td>\n",
       "      <td>Denied</td>\n",
       "    </tr>\n",
       "    <tr>\n",
       "      <th>1</th>\n",
       "      <td>EZYV02</td>\n",
       "      <td>Asia</td>\n",
       "      <td>Master's</td>\n",
       "      <td>Y</td>\n",
       "      <td>N</td>\n",
       "      <td>2412</td>\n",
       "      <td>2002</td>\n",
       "      <td>Northeast</td>\n",
       "      <td>83425.6500</td>\n",
       "      <td>Year</td>\n",
       "      <td>Y</td>\n",
       "      <td>Certified</td>\n",
       "    </tr>\n",
       "    <tr>\n",
       "      <th>2</th>\n",
       "      <td>EZYV03</td>\n",
       "      <td>Asia</td>\n",
       "      <td>Bachelor's</td>\n",
       "      <td>N</td>\n",
       "      <td>Y</td>\n",
       "      <td>44444</td>\n",
       "      <td>2008</td>\n",
       "      <td>West</td>\n",
       "      <td>122996.8600</td>\n",
       "      <td>Year</td>\n",
       "      <td>Y</td>\n",
       "      <td>Denied</td>\n",
       "    </tr>\n",
       "    <tr>\n",
       "      <th>3</th>\n",
       "      <td>EZYV04</td>\n",
       "      <td>Asia</td>\n",
       "      <td>Bachelor's</td>\n",
       "      <td>N</td>\n",
       "      <td>N</td>\n",
       "      <td>98</td>\n",
       "      <td>1897</td>\n",
       "      <td>West</td>\n",
       "      <td>83434.0300</td>\n",
       "      <td>Year</td>\n",
       "      <td>Y</td>\n",
       "      <td>Denied</td>\n",
       "    </tr>\n",
       "    <tr>\n",
       "      <th>4</th>\n",
       "      <td>EZYV05</td>\n",
       "      <td>Africa</td>\n",
       "      <td>Master's</td>\n",
       "      <td>Y</td>\n",
       "      <td>N</td>\n",
       "      <td>1082</td>\n",
       "      <td>2005</td>\n",
       "      <td>South</td>\n",
       "      <td>149907.3900</td>\n",
       "      <td>Year</td>\n",
       "      <td>Y</td>\n",
       "      <td>Certified</td>\n",
       "    </tr>\n",
       "    <tr>\n",
       "      <th>...</th>\n",
       "      <td>...</td>\n",
       "      <td>...</td>\n",
       "      <td>...</td>\n",
       "      <td>...</td>\n",
       "      <td>...</td>\n",
       "      <td>...</td>\n",
       "      <td>...</td>\n",
       "      <td>...</td>\n",
       "      <td>...</td>\n",
       "      <td>...</td>\n",
       "      <td>...</td>\n",
       "      <td>...</td>\n",
       "    </tr>\n",
       "    <tr>\n",
       "      <th>25475</th>\n",
       "      <td>EZYV25476</td>\n",
       "      <td>Asia</td>\n",
       "      <td>Bachelor's</td>\n",
       "      <td>Y</td>\n",
       "      <td>Y</td>\n",
       "      <td>2601</td>\n",
       "      <td>2008</td>\n",
       "      <td>South</td>\n",
       "      <td>77092.5700</td>\n",
       "      <td>Year</td>\n",
       "      <td>Y</td>\n",
       "      <td>Certified</td>\n",
       "    </tr>\n",
       "    <tr>\n",
       "      <th>25476</th>\n",
       "      <td>EZYV25477</td>\n",
       "      <td>Asia</td>\n",
       "      <td>High School</td>\n",
       "      <td>Y</td>\n",
       "      <td>N</td>\n",
       "      <td>3274</td>\n",
       "      <td>2006</td>\n",
       "      <td>Northeast</td>\n",
       "      <td>279174.7900</td>\n",
       "      <td>Year</td>\n",
       "      <td>Y</td>\n",
       "      <td>Certified</td>\n",
       "    </tr>\n",
       "    <tr>\n",
       "      <th>25477</th>\n",
       "      <td>EZYV25478</td>\n",
       "      <td>Asia</td>\n",
       "      <td>Master's</td>\n",
       "      <td>Y</td>\n",
       "      <td>N</td>\n",
       "      <td>1121</td>\n",
       "      <td>1910</td>\n",
       "      <td>South</td>\n",
       "      <td>146298.8500</td>\n",
       "      <td>Year</td>\n",
       "      <td>N</td>\n",
       "      <td>Certified</td>\n",
       "    </tr>\n",
       "    <tr>\n",
       "      <th>25478</th>\n",
       "      <td>EZYV25479</td>\n",
       "      <td>Asia</td>\n",
       "      <td>Master's</td>\n",
       "      <td>Y</td>\n",
       "      <td>Y</td>\n",
       "      <td>1918</td>\n",
       "      <td>1887</td>\n",
       "      <td>West</td>\n",
       "      <td>86154.7700</td>\n",
       "      <td>Year</td>\n",
       "      <td>Y</td>\n",
       "      <td>Certified</td>\n",
       "    </tr>\n",
       "    <tr>\n",
       "      <th>25479</th>\n",
       "      <td>EZYV25480</td>\n",
       "      <td>Asia</td>\n",
       "      <td>Bachelor's</td>\n",
       "      <td>Y</td>\n",
       "      <td>N</td>\n",
       "      <td>3195</td>\n",
       "      <td>1960</td>\n",
       "      <td>Midwest</td>\n",
       "      <td>70876.9100</td>\n",
       "      <td>Year</td>\n",
       "      <td>Y</td>\n",
       "      <td>Certified</td>\n",
       "    </tr>\n",
       "  </tbody>\n",
       "</table>\n",
       "<p>25480 rows × 12 columns</p>\n",
       "</div>"
      ],
      "text/plain": [
       "         case_id continent education_of_employee has_job_experience  \\\n",
       "0         EZYV01      Asia           High School                  N   \n",
       "1         EZYV02      Asia              Master's                  Y   \n",
       "2         EZYV03      Asia            Bachelor's                  N   \n",
       "3         EZYV04      Asia            Bachelor's                  N   \n",
       "4         EZYV05    Africa              Master's                  Y   \n",
       "...          ...       ...                   ...                ...   \n",
       "25475  EZYV25476      Asia            Bachelor's                  Y   \n",
       "25476  EZYV25477      Asia           High School                  Y   \n",
       "25477  EZYV25478      Asia              Master's                  Y   \n",
       "25478  EZYV25479      Asia              Master's                  Y   \n",
       "25479  EZYV25480      Asia            Bachelor's                  Y   \n",
       "\n",
       "      requires_job_training  no_of_employees  yr_of_estab  \\\n",
       "0                         N            14513         2007   \n",
       "1                         N             2412         2002   \n",
       "2                         Y            44444         2008   \n",
       "3                         N               98         1897   \n",
       "4                         N             1082         2005   \n",
       "...                     ...              ...          ...   \n",
       "25475                     Y             2601         2008   \n",
       "25476                     N             3274         2006   \n",
       "25477                     N             1121         1910   \n",
       "25478                     Y             1918         1887   \n",
       "25479                     N             3195         1960   \n",
       "\n",
       "      region_of_employment  prevailing_wage unit_of_wage full_time_position  \\\n",
       "0                     West         592.2029         Hour                  Y   \n",
       "1                Northeast       83425.6500         Year                  Y   \n",
       "2                     West      122996.8600         Year                  Y   \n",
       "3                     West       83434.0300         Year                  Y   \n",
       "4                    South      149907.3900         Year                  Y   \n",
       "...                    ...              ...          ...                ...   \n",
       "25475                South       77092.5700         Year                  Y   \n",
       "25476            Northeast      279174.7900         Year                  Y   \n",
       "25477                South      146298.8500         Year                  N   \n",
       "25478                 West       86154.7700         Year                  Y   \n",
       "25479              Midwest       70876.9100         Year                  Y   \n",
       "\n",
       "      case_status  \n",
       "0          Denied  \n",
       "1       Certified  \n",
       "2          Denied  \n",
       "3          Denied  \n",
       "4       Certified  \n",
       "...           ...  \n",
       "25475   Certified  \n",
       "25476   Certified  \n",
       "25477   Certified  \n",
       "25478   Certified  \n",
       "25479   Certified  \n",
       "\n",
       "[25480 rows x 12 columns]"
      ]
     },
     "execution_count": 5,
     "metadata": {},
     "output_type": "execute_result"
    }
   ],
   "source": [
    "import matplotlib.pyplot as plt\n",
    "import pandas as pd\n",
    "visa_df=pd.read_csv(r\"C:\\Users\\91937\\Downloads\\Visadataset.csv\")\n",
    "dtypes=dict(visa_df.dtypes)\n",
    "cat=[i for i,j in dtypes.items() if j=='object']\n",
    "num=[i for i,j in dtypes.items() if j!='object']\n",
    "cat,num\n",
    "visa_df"
   ]
  },
  {
   "cell_type": "code",
   "execution_count": 7,
   "id": "204238a0-5e29-4f3b-af60-a5bb6ebabf31",
   "metadata": {},
   "outputs": [
    {
     "data": {
      "text/plain": [
       "0           592.2029\n",
       "1         83425.6500\n",
       "2        122996.8600\n",
       "3         83434.0300\n",
       "4        149907.3900\n",
       "            ...     \n",
       "25475     77092.5700\n",
       "25476    279174.7900\n",
       "25477    146298.8500\n",
       "25478     86154.7700\n",
       "25479     70876.9100\n",
       "Name: prevailing_wage, Length: 25480, dtype: float64"
      ]
     },
     "execution_count": 7,
     "metadata": {},
     "output_type": "execute_result"
    }
   ],
   "source": [
    "import numpy as np\n",
    "wage_data=visa_df['prevailing_wage']\n",
    "wage_data\n"
   ]
  },
  {
   "cell_type": "code",
   "execution_count": 27,
   "id": "f533ffc9-29be-4d4a-9814-71382cc665fd",
   "metadata": {},
   "outputs": [
    {
     "name": "stdout",
     "output_type": "stream",
     "text": [
      "25480\n",
      "2.1367\n",
      "319210.27\n",
      "mean is <bound method Series.mean of 0           592.2029\n",
      "1         83425.6500\n",
      "2        122996.8600\n",
      "3         83434.0300\n",
      "4        149907.3900\n",
      "            ...     \n",
      "25475     77092.5700\n",
      "25476    279174.7900\n",
      "25477    146298.8500\n",
      "25478     86154.7700\n",
      "25479     70876.9100\n",
      "Name: prevailing_wage, Length: 25480, dtype: float64>\n",
      "<bound method Series.median of 0           592.2029\n",
      "1         83425.6500\n",
      "2        122996.8600\n",
      "3         83434.0300\n",
      "4        149907.3900\n",
      "            ...     \n",
      "25475     77092.5700\n",
      "25476    279174.7900\n",
      "25477    146298.8500\n",
      "25478     86154.7700\n",
      "25479     70876.9100\n",
      "Name: prevailing_wage, Length: 25480, dtype: float64>\n"
     ]
    }
   ],
   "source": [
    "count=(len(wage_data))\n",
    "print(count)\n",
    "#min\n",
    "minn=np.min(wage_data)\n",
    "minn=wage_data.min()\n",
    "print(minn)\n",
    "#max\n",
    "maxx=np.max(wage_data)\n",
    "maxx=wage_data.max()\n",
    "print(maxx)\n",
    "#mean\n",
    "mean=np.mean(wage_data)\n",
    "mean=wage_data.mean\n",
    "print('mean is',mean)\n",
    "\n",
    "#median\n",
    "median=np.median(wage_data)\n",
    "median=wage_data.median\n",
    "print(median)\n"
   ]
  },
  {
   "cell_type": "code",
   "execution_count": 25,
   "id": "81797f2d-b1f3-42ce-8299-293511bd5c3c",
   "metadata": {},
   "outputs": [
    {
     "name": "stdout",
     "output_type": "stream",
     "text": [
      "70308\n",
      "74456\n",
      "319210\n"
     ]
    }
   ],
   "source": [
    "count=(len(wage_data))\n",
    "maxx=round(np.max(wage_data))\n",
    "mean=round(np.mean(wage_data))\n",
    "median=round(np.median(wage_data))\n",
    "print(median)\n",
    "print(mean)\n",
    "print(maxx)\n"
   ]
  },
  {
   "cell_type": "code",
   "execution_count": 27,
   "id": "30cd04c3-ac2b-4f53-a068-b2bf64f55d1d",
   "metadata": {},
   "outputs": [
    {
     "name": "stdout",
     "output_type": "stream",
     "text": [
      "34015.479999999996\n",
      "34015.479999999996\n"
     ]
    }
   ],
   "source": [
    "print(np.percentile(wage_data,25))\n",
    "print(np.quantile(wage_data,0.25))\n",
    "\n"
   ]
  },
  {
   "cell_type": "code",
   "execution_count": 29,
   "id": "ac84a380-554e-4c0b-bd95-5fb654221f94",
   "metadata": {},
   "outputs": [
    {
     "data": {
      "text/html": [
       "<div>\n",
       "<style scoped>\n",
       "    .dataframe tbody tr th:only-of-type {\n",
       "        vertical-align: middle;\n",
       "    }\n",
       "\n",
       "    .dataframe tbody tr th {\n",
       "        vertical-align: top;\n",
       "    }\n",
       "\n",
       "    .dataframe thead th {\n",
       "        text-align: right;\n",
       "    }\n",
       "</style>\n",
       "<table border=\"1\" class=\"dataframe\">\n",
       "  <thead>\n",
       "    <tr style=\"text-align: right;\">\n",
       "      <th></th>\n",
       "      <th>prevailing_wage</th>\n",
       "    </tr>\n",
       "  </thead>\n",
       "  <tbody>\n",
       "    <tr>\n",
       "      <th>count</th>\n",
       "      <td>25480.00</td>\n",
       "    </tr>\n",
       "    <tr>\n",
       "      <th>minn</th>\n",
       "      <td>2.14</td>\n",
       "    </tr>\n",
       "    <tr>\n",
       "      <th>p_25</th>\n",
       "      <td>34015.48</td>\n",
       "    </tr>\n",
       "    <tr>\n",
       "      <th>mean</th>\n",
       "      <td>74455.81</td>\n",
       "    </tr>\n",
       "    <tr>\n",
       "      <th>median</th>\n",
       "      <td>70308.21</td>\n",
       "    </tr>\n",
       "    <tr>\n",
       "      <th>p_50</th>\n",
       "      <td>70308.21</td>\n",
       "    </tr>\n",
       "    <tr>\n",
       "      <th>p_75</th>\n",
       "      <td>107735.51</td>\n",
       "    </tr>\n",
       "    <tr>\n",
       "      <th>maxx</th>\n",
       "      <td>319210.27</td>\n",
       "    </tr>\n",
       "  </tbody>\n",
       "</table>\n",
       "</div>"
      ],
      "text/plain": [
       "        prevailing_wage\n",
       "count          25480.00\n",
       "minn               2.14\n",
       "p_25           34015.48\n",
       "mean           74455.81\n",
       "median         70308.21\n",
       "p_50           70308.21\n",
       "p_75          107735.51\n",
       "maxx          319210.27"
      ]
     },
     "execution_count": 29,
     "metadata": {},
     "output_type": "execute_result"
    }
   ],
   "source": [
    "\n",
    "count=len(wage_data)\n",
    "minn=round(np.min(wage_data),2)\n",
    "p_25=round(np.percentile(wage_data,25),2)\n",
    "mean=round(np.mean(wage_data),2)\n",
    "median=round(np.median(wage_data),2)\n",
    "p_50=round(np.percentile(wage_data,50),2)\n",
    "p_75=round(np.percentile(wage_data,75),2)\n",
    "maxx=round(np.max(wage_data),2)\n",
    "values=[count,minn,p_25,mean,median,p_50,p_75,maxx]\n",
    "ids=['count','minn','p_25','mean','median','p_50','p_75','maxx']\n",
    "pd.DataFrame(values,index=ids,columns=['prevailing_wage'])"
   ]
  },
  {
   "cell_type": "code",
   "execution_count": 21,
   "id": "b58acf87-1f4e-4cfc-a02d-099586c651b9",
   "metadata": {},
   "outputs": [
    {
     "data": {
      "text/plain": [
       "[2.14, 319210.27, 70308.21, 34015.48, 70308.21, 107735.51]"
      ]
     },
     "execution_count": 21,
     "metadata": {},
     "output_type": "execute_result"
    }
   ],
   "source": [
    "import numpy as np\n",
    "visa_df=pd.read_csv(r\"C:\\Users\\91937\\Downloads\\Visadataset.csv\")\n",
    "wage_data=visa_df['prevailing_wage']\n",
    "minn=round(np.min(wage_data),2)\n",
    "maxx=round(np.max(wage_data),2)\n",
    "median=round(np.median(wage_data),2)\n",
    "\n",
    "p_25=round(np.percentile(wage_data,25),2)\n",
    "p_50=round(np.percentile(wage_data,50),2)\n",
    "p_75=round(np.percentile(wage_data,75),2)\n",
    "value=[minn,maxx,median,p_25,p_50,p_75]\n",
    "value"
   ]
  },
  {
   "cell_type": "code",
   "execution_count": 46,
   "id": "01b71b3a-c128-4095-9e57-14e38836cafd",
   "metadata": {},
   "outputs": [
    {
     "data": {
      "text/plain": [
       "[[25480, 2.14, 34015.48, 74455.81, 70308.21, 70308.21, 107735.51, 319210.27]]"
      ]
     },
     "execution_count": 46,
     "metadata": {},
     "output_type": "execute_result"
    }
   ],
   "source": [
    "\n",
    "l1=[]\n",
    "for i in range(1):\n",
    "    count=len(wage_data)\n",
    "    minn=round(np.min(wage_data),2)\n",
    "    p_25=round(np.percentile(wage_data,25),2)\n",
    "    mean=round(np.mean(wage_data),2)\n",
    "    median=round(np.median(wage_data),2)\n",
    "    p_50=round(np.percentile(wage_data,50),2)\n",
    "    p_75=round(np.percentile(wage_data,75),2)\n",
    "    maxx=round(np.max(wage_data),2)\n",
    "    values=[count,minn,p_25,mean,median,p_50,p_75,maxx]\n",
    "    l1.append(values)\n",
    "l1   "
   ]
  },
  {
   "cell_type": "code",
   "execution_count": null,
   "id": "86542eb1-2590-4471-87f3-75cd01bebaaf",
   "metadata": {},
   "outputs": [],
   "source": []
  },
  {
   "cell_type": "code",
   "execution_count": 75,
   "id": "7e819e6b-50fa-4ab9-baa4-59fe2229ff4b",
   "metadata": {},
   "outputs": [
    {
     "data": {
      "text/html": [
       "<div>\n",
       "<style scoped>\n",
       "    .dataframe tbody tr th:only-of-type {\n",
       "        vertical-align: middle;\n",
       "    }\n",
       "\n",
       "    .dataframe tbody tr th {\n",
       "        vertical-align: top;\n",
       "    }\n",
       "\n",
       "    .dataframe thead th {\n",
       "        text-align: right;\n",
       "    }\n",
       "</style>\n",
       "<table border=\"1\" class=\"dataframe\">\n",
       "  <thead>\n",
       "    <tr style=\"text-align: right;\">\n",
       "      <th></th>\n",
       "      <th>count</th>\n",
       "      <th>minn</th>\n",
       "      <th>p_25</th>\n",
       "      <th>mean</th>\n",
       "      <th>median</th>\n",
       "      <th>p_50</th>\n",
       "      <th>p_75</th>\n",
       "      <th>maxx</th>\n",
       "    </tr>\n",
       "  </thead>\n",
       "  <tbody>\n",
       "    <tr>\n",
       "      <th>no_of_employees</th>\n",
       "      <td>25480</td>\n",
       "      <td>2.14</td>\n",
       "      <td>34015.48</td>\n",
       "      <td>74455.81</td>\n",
       "      <td>70308.21</td>\n",
       "      <td>70308.21</td>\n",
       "      <td>107735.51</td>\n",
       "      <td>319210.27</td>\n",
       "    </tr>\n",
       "    <tr>\n",
       "      <th>yr_of_estab</th>\n",
       "      <td>25480</td>\n",
       "      <td>2.14</td>\n",
       "      <td>34015.48</td>\n",
       "      <td>74455.81</td>\n",
       "      <td>70308.21</td>\n",
       "      <td>70308.21</td>\n",
       "      <td>107735.51</td>\n",
       "      <td>319210.27</td>\n",
       "    </tr>\n",
       "    <tr>\n",
       "      <th>prevailing_wage</th>\n",
       "      <td>25480</td>\n",
       "      <td>2.14</td>\n",
       "      <td>34015.48</td>\n",
       "      <td>74455.81</td>\n",
       "      <td>70308.21</td>\n",
       "      <td>70308.21</td>\n",
       "      <td>107735.51</td>\n",
       "      <td>319210.27</td>\n",
       "    </tr>\n",
       "  </tbody>\n",
       "</table>\n",
       "</div>"
      ],
      "text/plain": [
       "                 count  minn      p_25      mean    median      p_50  \\\n",
       "no_of_employees  25480  2.14  34015.48  74455.81  70308.21  70308.21   \n",
       "yr_of_estab      25480  2.14  34015.48  74455.81  70308.21  70308.21   \n",
       "prevailing_wage  25480  2.14  34015.48  74455.81  70308.21  70308.21   \n",
       "\n",
       "                      p_75       maxx  \n",
       "no_of_employees  107735.51  319210.27  \n",
       "yr_of_estab      107735.51  319210.27  \n",
       "prevailing_wage  107735.51  319210.27  "
      ]
     },
     "execution_count": 75,
     "metadata": {},
     "output_type": "execute_result"
    }
   ],
   "source": [
    "pd.DataFrame(l1,columns=ids,index=num)"
   ]
  },
  {
   "cell_type": "code",
   "execution_count": 44,
   "id": "7b8b3e02-f1f7-4247-8e05-e27af465ea96",
   "metadata": {},
   "outputs": [
    {
     "data": {
      "text/html": [
       "<div>\n",
       "<style scoped>\n",
       "    .dataframe tbody tr th:only-of-type {\n",
       "        vertical-align: middle;\n",
       "    }\n",
       "\n",
       "    .dataframe tbody tr th {\n",
       "        vertical-align: top;\n",
       "    }\n",
       "\n",
       "    .dataframe thead th {\n",
       "        text-align: right;\n",
       "    }\n",
       "</style>\n",
       "<table border=\"1\" class=\"dataframe\">\n",
       "  <thead>\n",
       "    <tr style=\"text-align: right;\">\n",
       "      <th></th>\n",
       "      <th>no_of_employees</th>\n",
       "      <th>yr_of_estab</th>\n",
       "      <th>prevailing_wage</th>\n",
       "    </tr>\n",
       "  </thead>\n",
       "  <tbody>\n",
       "    <tr>\n",
       "      <th>count</th>\n",
       "      <td>25480.000000</td>\n",
       "      <td>25480.000000</td>\n",
       "      <td>25480.000000</td>\n",
       "    </tr>\n",
       "    <tr>\n",
       "      <th>mean</th>\n",
       "      <td>5667.043210</td>\n",
       "      <td>1979.409929</td>\n",
       "      <td>74455.814592</td>\n",
       "    </tr>\n",
       "    <tr>\n",
       "      <th>std</th>\n",
       "      <td>22877.928848</td>\n",
       "      <td>42.366929</td>\n",
       "      <td>52815.942327</td>\n",
       "    </tr>\n",
       "    <tr>\n",
       "      <th>min</th>\n",
       "      <td>-26.000000</td>\n",
       "      <td>1800.000000</td>\n",
       "      <td>2.136700</td>\n",
       "    </tr>\n",
       "    <tr>\n",
       "      <th>25%</th>\n",
       "      <td>1022.000000</td>\n",
       "      <td>1976.000000</td>\n",
       "      <td>34015.480000</td>\n",
       "    </tr>\n",
       "    <tr>\n",
       "      <th>50%</th>\n",
       "      <td>2109.000000</td>\n",
       "      <td>1997.000000</td>\n",
       "      <td>70308.210000</td>\n",
       "    </tr>\n",
       "    <tr>\n",
       "      <th>75%</th>\n",
       "      <td>3504.000000</td>\n",
       "      <td>2005.000000</td>\n",
       "      <td>107735.512500</td>\n",
       "    </tr>\n",
       "    <tr>\n",
       "      <th>max</th>\n",
       "      <td>602069.000000</td>\n",
       "      <td>2016.000000</td>\n",
       "      <td>319210.270000</td>\n",
       "    </tr>\n",
       "  </tbody>\n",
       "</table>\n",
       "</div>"
      ],
      "text/plain": [
       "       no_of_employees   yr_of_estab  prevailing_wage\n",
       "count     25480.000000  25480.000000     25480.000000\n",
       "mean       5667.043210   1979.409929     74455.814592\n",
       "std       22877.928848     42.366929     52815.942327\n",
       "min         -26.000000   1800.000000         2.136700\n",
       "25%        1022.000000   1976.000000     34015.480000\n",
       "50%        2109.000000   1997.000000     70308.210000\n",
       "75%        3504.000000   2005.000000    107735.512500\n",
       "max      602069.000000   2016.000000    319210.270000"
      ]
     },
     "execution_count": 44,
     "metadata": {},
     "output_type": "execute_result"
    }
   ],
   "source": [
    "visa_df.describe()"
   ]
  },
  {
   "cell_type": "code",
   "execution_count": 46,
   "id": "2c5d5f77-79a2-41ab-b779-46440b0c1b2f",
   "metadata": {},
   "outputs": [
    {
     "data": {
      "text/plain": [
       "(34015.479999999996, 70308.20999999999, 107735.51250000001)"
      ]
     },
     "execution_count": 46,
     "metadata": {},
     "output_type": "execute_result"
    }
   ],
   "source": [
    "import numpy as np\n",
    "wage_data=visa_df['prevailing_wage']\n",
    "p_25=np.percentile(wage_data,25)\n",
    "p_50=np.percentile(wage_data,50)\n",
    "p_75=np.percentile(wage_data,75)\n",
    "p_25,p_50,p_75"
   ]
  },
  {
   "cell_type": "markdown",
   "id": "d28f5109-b217-41ce-934e-850d62d4901b",
   "metadata": {},
   "source": [
    "**meaning**"
   ]
  },
  {
   "cell_type": "code",
   "execution_count": null,
   "id": "0662feea-da50-41fb-9f75-90d52e7545b7",
   "metadata": {},
   "outputs": [],
   "source": [
    "-25 percentile of application has wage less than 34015.479999999996\n",
    "-25% of 25480 =6370 application has wage less than 34015.47\n",
    "-50%percentile of application has wage less than 70308.20999999999\n",
    "-50%of 25480 =12740 application has wage less than 70308.20999999999\n",
    "-75%percentile of application has wage less than 107735.51250000001\n",
    "-75%of 25480 =19110 application has wage less than \n",
    "\n",
    "\n"
   ]
  },
  {
   "cell_type": "markdown",
   "id": "609d2a08-bb7f-4ca4-96a8-0c755aadc9b6",
   "metadata": {},
   "source": [
    "**idea**"
   ]
  },
  {
   "cell_type": "code",
   "execution_count": 62,
   "id": "9efe492e-9292-4c72-a0e6-b196d06e9c4d",
   "metadata": {},
   "outputs": [
    {
     "data": {
      "text/plain": [
       "6370"
      ]
     },
     "execution_count": 62,
     "metadata": {},
     "output_type": "execute_result"
    }
   ],
   "source": [
    "p_25=np.percentile(wage_data,25)\n",
    "con=wage_data<p_25\n",
    "len(visa_df[con])\n"
   ]
  },
  {
   "cell_type": "code",
   "execution_count": 57,
   "id": "751fe455-ca9f-4cbb-bc17-8408082145b4",
   "metadata": {},
   "outputs": [
    {
     "data": {
      "text/plain": [
       "6370"
      ]
     },
     "execution_count": 57,
     "metadata": {},
     "output_type": "execute_result"
    }
   ],
   "source": [
    "p_50=np.percentile(wage_data,25)\n",
    "con=wage_data<p_50\n",
    "len(wage_data[con])"
   ]
  },
  {
   "cell_type": "code",
   "execution_count": 59,
   "id": "356485a2-4d2a-4ef4-8609-8c362465e9c9",
   "metadata": {},
   "outputs": [
    {
     "data": {
      "text/plain": [
       "19110"
      ]
     },
     "execution_count": 59,
     "metadata": {},
     "output_type": "execute_result"
    }
   ],
   "source": [
    "p_75=np.percentile(wage_data,75)\n",
    "con=wage_data<p_75  #condition\n",
    "len(wage_data[con])"
   ]
  },
  {
   "cell_type": "code",
   "execution_count": 83,
   "id": "a0840cdb-138c-4ea9-bbae-e8f95d7596f7",
   "metadata": {},
   "outputs": [
    {
     "ename": "SyntaxError",
     "evalue": "invalid syntax (3513222680.py, line 1)",
     "output_type": "error",
     "traceback": [
      "\u001b[1;36m  Cell \u001b[1;32mIn[83], line 1\u001b[1;36m\u001b[0m\n\u001b[1;33m    **Emperical Rule**\u001b[0m\n\u001b[1;37m    ^\u001b[0m\n\u001b[1;31mSyntaxError\u001b[0m\u001b[1;31m:\u001b[0m invalid syntax\n"
     ]
    }
   ],
   "source": [
    "**Emperical Rule**\n",
    "u-1*std to u+1*std=68%\n",
    "u-2*std to u+2*std=68%\n",
    "u-3*std to u+3*std=68%\n",
    "\n",
    "step-1:wage_mean\n",
    "step-2:wage_std\n",
    "step-3:lb=wage_mean-1*wage_std\n",
    "step-4:lb=wage_mean+1*wage_std\n",
    "step-5:con1=wage_data>lb\n",
    "step-6:con2=wage_data<ub\n",
    "step-7:con1&con2\n",
    "step-8:len(visa_df[con])==68*25480/100\n"
   ]
  },
  {
   "cell_type": "code",
   "execution_count": 64,
   "id": "5d64f0a0-99c5-4f74-bef2-191bed325412",
   "metadata": {},
   "outputs": [
    {
     "data": {
      "text/plain": [
       "2.14"
      ]
     },
     "execution_count": 64,
     "metadata": {},
     "output_type": "execute_result"
    }
   ],
   "source": [
    "minn=round(np.min(wage_data),2)\n",
    "minn"
   ]
  },
  {
   "cell_type": "code",
   "execution_count": 68,
   "id": "e65c6623-705f-4152-9704-45df5892a34b",
   "metadata": {},
   "outputs": [
    {
     "data": {
      "text/plain": [
       "52815.9423268737"
      ]
     },
     "execution_count": 68,
     "metadata": {},
     "output_type": "execute_result"
    }
   ],
   "source": [
    "import statistics\n",
    "std = statistics.stdev(wage_data) \n",
    "std"
   ]
  },
  {
   "cell_type": "code",
   "execution_count": 84,
   "id": "a9704c2a-32f7-4ac4-b60c-10bdc0acc6e9",
   "metadata": {},
   "outputs": [
    {
     "data": {
      "text/plain": [
       "False"
      ]
     },
     "execution_count": 84,
     "metadata": {},
     "output_type": "execute_result"
    }
   ],
   "source": [
    "lb=minn-1*std\n",
    "lb\n",
    "ub=minn+1*std\n",
    "ub\n",
    "con1=wage_data>lb\n",
    "con2=wage_data<ub\n",
    "con=con1&con2\n",
    "len(visa_df[con])==68*25480/100"
   ]
  },
  {
   "cell_type": "code",
   "execution_count": 94,
   "id": "596ee74a-6825-4892-a10d-0cb54675be11",
   "metadata": {},
   "outputs": [
    {
     "data": {
      "text/plain": [
       "False"
      ]
     },
     "execution_count": 94,
     "metadata": {},
     "output_type": "execute_result"
    }
   ],
   "source": [
    "lb=minn-2*std\n",
    "lb\n",
    "ub=minn+2*std\n",
    "ub\n",
    "con1=wage_data>lb\n",
    "con2=wage_data<ub\n",
    "con=con1&con2\n",
    "len(visa_df[con])==95*25480/100"
   ]
  },
  {
   "cell_type": "code",
   "execution_count": 92,
   "id": "c85f1476-2b5c-4e3e-bffa-9c7e30a93853",
   "metadata": {},
   "outputs": [
    {
     "data": {
      "text/plain": [
       "False"
      ]
     },
     "execution_count": 92,
     "metadata": {},
     "output_type": "execute_result"
    }
   ],
   "source": [
    "lb=minn-3*std\n",
    "lb\n",
    "ub=minn+3*std\n",
    "ub\n",
    "con1=wage_data>lb\n",
    "con2=wage_data<ub\n",
    "con=con1&con2\n",
    "len(visa_df[con])==99.7*25480/100"
   ]
  },
  {
   "cell_type": "markdown",
   "id": "b63eb0b1-ab66-4bc6-beed-0cc956562616",
   "metadata": {},
   "source": [
    "**conclusion:data does not following normal distrubuation**\n"
   ]
  },
  {
   "cell_type": "code",
   "execution_count": 97,
   "id": "41cbecb5-9ab8-4760-b0ae-159e5aab5a8c",
   "metadata": {},
   "outputs": [
    {
     "data": {
      "text/plain": [
       "(array([6038., 5504., 5681., 4551., 2334.,  624.,  373.,  240.,  114.,\n",
       "          21.]),\n",
       " array([2.13670000e+00, 3.19229500e+04, 6.38437634e+04, 9.57645767e+04,\n",
       "        1.27685390e+05, 1.59606203e+05, 1.91527017e+05, 2.23447830e+05,\n",
       "        2.55368643e+05, 2.87289457e+05, 3.19210270e+05]),\n",
       " <BarContainer object of 10 artists>)"
      ]
     },
     "execution_count": 97,
     "metadata": {},
     "output_type": "execute_result"
    },
    {
     "data": {
      "image/png": "[encoded data removed]",
      "text/plain": [
       "<Figure size 640x480 with 1 Axes>"
      ]
     },
     "metadata": {},
     "output_type": "display_data"
    }
   ],
   "source": [
    "plt.hist(wage_data)"
   ]
  },
  {
   "cell_type": "code",
   "execution_count": 101,
   "id": "d67f648b-8cc1-4ab3-9e55-672499cc042b",
   "metadata": {},
   "outputs": [
    {
     "data": {
      "text/plain": [
       "6037"
      ]
     },
     "execution_count": 101,
     "metadata": {},
     "output_type": "execute_result"
    }
   ],
   "source": [
    "lb=wage_data>2.13670000e+00\n",
    "ub=wage_data<3.19229500e+04\n",
    "con=lb& ub\n",
    "len(visa_df[con])"
   ]
  },
  {
   "cell_type": "code",
   "execution_count": 103,
   "id": "67013eff-29c0-4cc4-af74-3b095ca17817",
   "metadata": {},
   "outputs": [
    {
     "data": {
      "text/plain": [
       "<function matplotlib.pyplot.show(close=None, block=None)>"
      ]
     },
     "execution_count": 103,
     "metadata": {},
     "output_type": "execute_result"
    },
    {
     "data": {
      "image/png": "[encoded data removed]",
      "text/plain": [
       "<Figure size 640x480 with 1 Axes>"
      ]
     },
     "metadata": {},
     "output_type": "display_data"
    }
   ],
   "source": [
    "plt.hist(wage_data,bins=40)\n",
    "plt.show"
   ]
  },
  {
   "cell_type": "code",
   "execution_count": null,
   "id": "19e9ee46-c883-4063-8725-c2ebca58ca98",
   "metadata": {},
   "outputs": [],
   "source": [
    "plt.boxplot(wage_data,vert=False)\n",
    "plt.show()"
   ]
  },
  {
   "cell_type": "code",
   "execution_count": null,
   "id": "d566f305-71ca-4748-9972-5061baa8c1c6",
   "metadata": {},
   "outputs": [],
   "source": [
    "**Boxplot**"
   ]
  },
  {
   "cell_type": "code",
   "execution_count": 114,
   "id": "19c0354e-f13b-4360-9a84-a580402a06b9",
   "metadata": {},
   "outputs": [
    {
     "data": {
      "image/png": "[encoded data removed]",
      "text/plain": [
       "<Figure size 640x480 with 1 Axes>"
      ]
     },
     "metadata": {},
     "output_type": "display_data"
    }
   ],
   "source": [
    "plt.boxplot(wage_data,vert=False)\n",
    "plt.show()"
   ]
  },
  {
   "cell_type": "code",
   "execution_count": null,
   "id": "504b0dfb-2216-46f6-95c0-509ff4f70e49",
   "metadata": {},
   "outputs": [],
   "source": [
    "#outlier\n",
    "step-1:q1,q2,q3\n",
    "step-2:IQR\n",
    "step-3:lb=q1-1.5*25480/100\n",
    "step-4:bu=q3+1.5*25480/100\n",
    "con1=wage_data<lb\n",
    "con2=wage_data>ub\n",
    "con=con1|con2"
   ]
  },
  {
   "cell_type": "code",
   "execution_count": null,
   "id": "ec23416d-d18b-4933-a50a-08959294b19e",
   "metadata": {},
   "outputs": [],
   "source": [
    "#non outlier\n",
    "step-1:q1,q2,q3\n",
    "step-2:IQR\n",
    "step-3:lb=q1-1.5*25480/100\n",
    "step-4:bu=q3+1.5*25480/100\n",
    "con1=wage_data>lb\n",
    "con2=wage_data<ub\n",
    "con=con1&con2"
   ]
  },
  {
   "cell_type": "code",
   "execution_count": 144,
   "id": "adba9335-8a54-4ecd-bf2e-6acb166ad5c8",
   "metadata": {},
   "outputs": [
    {
     "data": {
      "text/plain": [
       "427"
      ]
     },
     "execution_count": 144,
     "metadata": {},
     "output_type": "execute_result"
    }
   ],
   "source": [
    "q1=np.percentile(wage_data,25)\n",
    "q3=np.percentile(wage_data,75)\n",
    "IQR=q3-q1\n",
    "\n",
    "lb=q1-1.5*IQR\n",
    "ub=q3+1.5*IQR\n",
    "con1=wage_data<lb\n",
    "con2=wage_data>ub\n",
    "con=con1|con2\n",
    "len(visa_df[con])"
   ]
  },
  {
   "cell_type": "code",
   "execution_count": 150,
   "id": "68cb7396-2ca9-4876-92f4-f369a3d63d96",
   "metadata": {},
   "outputs": [
    {
     "data": {
      "text/plain": [
       "25053"
      ]
     },
     "execution_count": 150,
     "metadata": {},
     "output_type": "execute_result"
    }
   ],
   "source": [
    "q1=np.percentile(wage_data,25)\n",
    "q3=np.percentile(wage_data,75)\n",
    "IQR=q3-q1\n",
    "\n",
    "lb=q1-1.5*IQR\n",
    "ub=q3 +1.5*IQR\n",
    "con1=wage_data>lb\n",
    "con2=wage_data<ub\n",
    "con=con1&con2\n",
    "len(visa_df[con])"
   ]
  },
  {
   "cell_type": "code",
   "execution_count": null,
   "id": "d2863aff-7c1d-4702-8a67-db742706c512",
   "metadata": {},
   "outputs": [],
   "source": []
  }
 ],
 "metadata": {
  "kernelspec": {
   "display_name": "Python [conda env:base] *",
   "language": "python",
   "name": "conda-base-py"
  },
  "language_info": {
   "codemirror_mode": {
    "name": "ipython",
    "version": 3
   },
   "file_extension": ".py",
   "mimetype": "text/x-python",
   "name": "python",
   "nbconvert_exporter": "python",
   "pygments_lexer": "ipython3",
   "version": "3.12.7"
  }
 },
 "nbformat": 4,
 "nbformat_minor": 5
}
