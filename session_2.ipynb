{
 "cells": [
  {
   "cell_type": "code",
   "execution_count": 3,
   "id": "34d44232-d1d3-4451-aad2-b17eeffd9eb4",
   "metadata": {},
   "outputs": [],
   "source": [
    "import numpy as np\n",
    "import pandas as pd\n",
    "import matplotlib.pyplot as plt\n",
    "import seaborn as snc\n",
    "visa_df=pd.read_csv(r\"C:\\Users\\91937\\Downloads\\Visadataset.csv\")\n",
    "dtypes=dict(visa_df.dtypes)\n",
    "cat=[i for i,j in dtypes.items() if j=='object']\n",
    "num=[i for i,j in dtypes.items() if j!='object']"
   ]
  },
  {
   "cell_type": "code",
   "execution_count": 70,
   "id": "d8920fbc-4106-4ca7-a968-c9217a253d9d",
   "metadata": {},
   "outputs": [
    {
     "data": {
      "text/plain": [
       "['case_id',\n",
       " 'continent',\n",
       " 'education_of_employee',\n",
       " 'has_job_experience',\n",
       " 'requires_job_training',\n",
       " 'region_of_employment',\n",
       " 'unit_of_wage',\n",
       " 'full_time_position',\n",
       " 'case_status']"
      ]
     },
     "execution_count": 70,
     "metadata": {},
     "output_type": "execute_result"
    }
   ],
   "source": [
    "cat"
   ]
  },
  {
   "cell_type": "code",
   "execution_count": null,
   "id": "991f2ad9-8c5e-4867-98cf-a562184c53cd",
   "metadata": {},
   "outputs": [],
   "source": [
    "**we ahve two of scalling**\n",
    "z score(standardization)\n",
    "min max scalling(normalization)"
   ]
  },
  {
   "cell_type": "code",
   "execution_count": 74,
   "id": "83a61ce5-59ab-4118-b2b8-dbc6c3d9d974",
   "metadata": {},
   "outputs": [],
   "source": [
    "#step-1: take the prevailing wage data\n",
    "#step-2: calculate mean of wage\n",
    "#step-3:calculate sd of wage\n",
    "#step-4:Nr :step1-step2\n",
    "#step-5:z=step4/step3\n"
   ]
  },
  {
   "cell_type": "code",
   "execution_count": 19,
   "id": "56658439-e0af-4b25-ab01-32978879aed5",
   "metadata": {},
   "outputs": [
    {
     "data": {
      "text/plain": [
       "0       -1.398510\n",
       "1        0.169832\n",
       "2        0.919060\n",
       "3        0.169991\n",
       "4        1.428576\n",
       "           ...   \n",
       "25475    0.049923\n",
       "25476    3.876083\n",
       "25477    1.360253\n",
       "25478    0.221504\n",
       "25479   -0.067762\n",
       "Name: prevailing_wage_z, Length: 25480, dtype: float64"
      ]
     },
     "execution_count": 19,
     "metadata": {},
     "output_type": "execute_result"
    }
   ],
   "source": [
    "\n",
    "visa_df=pd.read_csv(r\"C:\\Users\\91937\\Downloads\\Visadataset.csv\")\n",
    "wage_data=visa_df['prevailing_wage']\n",
    "mean=wage_data.mean()\n",
    "std=wage_data.std()\n",
    "nr=wage_data-mean\n",
    "wage_z=nr/std\n",
    "visa_df['prevailing_wage_z']=wage_z\n",
    "visa_df['prevailing_wage_z']"
   ]
  },
  {
   "cell_type": "code",
   "execution_count": 7,
   "id": "2b97adda-dfe3-46c5-a60c-bcb03080692d",
   "metadata": {},
   "outputs": [
    {
     "data": {
      "image/png": "[encoded data removed]",
      "text/plain": [
       "<Figure size 1000x300 with 2 Axes>"
      ]
     },
     "metadata": {},
     "output_type": "display_data"
    }
   ],
   "source": [
    "# wage_data=visa_df['prevailing_wage']\n",
    "# wage_z=nr/std\n",
    "# visa_df['prevailing_wage_z']=wage_z\n",
    "import pandas as pd\n",
    "visa_df=pd.read_csv(r\"C:\\Users\\91937\\Downloads\\Visadataset.csv\")\n",
    "wage_data=visa_df['prevailing_wage']\n",
    "mean=wage_data.mean()\n",
    "std=wage_data.std()\n",
    "nr=wage_data-mean\n",
    "wage_z=nr/std\n",
    "visa_df['prevailing_wage_z']=wage_z\n",
    "plt.figure(figsize=(10,3))\n",
    "plt.subplot(1,2,1.5).hist(wage_data)\n",
    "plt.subplot(1,2,2).hist(wage_z)\n",
    "plt.show()"
   ]
  },
  {
   "cell_type": "code",
   "execution_count": 82,
   "id": "5a2fabdb-cf09-4b04-b1c1-8933d5872de0",
   "metadata": {},
   "outputs": [
    {
     "data": {
      "text/plain": [
       "(20575, 20575)"
      ]
     },
     "execution_count": 82,
     "metadata": {},
     "output_type": "execute_result"
    }
   ],
   "source": [
    "wage_data.idxmin(),wage_z.idxmin()"
   ]
  },
  {
   "cell_type": "code",
   "execution_count": 84,
   "id": "cd365d7a-d6bc-4d63-849d-8d7f5dc18da1",
   "metadata": {},
   "outputs": [
    {
     "data": {
      "text/plain": [
       "(21077, 21077)"
      ]
     },
     "execution_count": 84,
     "metadata": {},
     "output_type": "execute_result"
    }
   ],
   "source": [
    "wage_data.idxmax(),wage_z.idxmax()"
   ]
  },
  {
   "cell_type": "code",
   "execution_count": 86,
   "id": "cd4eae1a-8a89-43fb-aae6-925a465f5cee",
   "metadata": {},
   "outputs": [
    {
     "data": {
      "text/html": [
       "<div>\n",
       "<style scoped>\n",
       "    .dataframe tbody tr th:only-of-type {\n",
       "        vertical-align: middle;\n",
       "    }\n",
       "\n",
       "    .dataframe tbody tr th {\n",
       "        vertical-align: top;\n",
       "    }\n",
       "\n",
       "    .dataframe thead th {\n",
       "        text-align: right;\n",
       "    }\n",
       "</style>\n",
       "<table border=\"1\" class=\"dataframe\">\n",
       "  <thead>\n",
       "    <tr style=\"text-align: right;\">\n",
       "      <th></th>\n",
       "      <th>prevailing_wage</th>\n",
       "      <th>prevailing_wage_z</th>\n",
       "    </tr>\n",
       "  </thead>\n",
       "  <tbody>\n",
       "    <tr>\n",
       "      <th>21077</th>\n",
       "      <td>319210.2700</td>\n",
       "      <td>4.634102</td>\n",
       "    </tr>\n",
       "    <tr>\n",
       "      <th>20575</th>\n",
       "      <td>2.1367</td>\n",
       "      <td>-1.409682</td>\n",
       "    </tr>\n",
       "  </tbody>\n",
       "</table>\n",
       "</div>"
      ],
      "text/plain": [
       "       prevailing_wage  prevailing_wage_z\n",
       "21077      319210.2700           4.634102\n",
       "20575           2.1367          -1.409682"
      ]
     },
     "execution_count": 86,
     "metadata": {},
     "output_type": "execute_result"
    }
   ],
   "source": [
    "visa_df.iloc[[21077,20575]][['prevailing_wage','prevailing_wage_z']]"
   ]
  },
  {
   "cell_type": "code",
   "execution_count": null,
   "id": "83c08a8b-1e50-4d8e-9eeb-97775a8aa8aa",
   "metadata": {},
   "outputs": [],
   "source": [
    "-sklearn\n",
    "  -processing \n",
    "    -standardscalar\n",
    "-import module\n",
    "-save module\n",
    "-aplly fit transform"
   ]
  },
  {
   "cell_type": "code",
   "execution_count": 39,
   "id": "96e38321-eab4-4d72-b8c9-e5580dbf5e6d",
   "metadata": {},
   "outputs": [],
   "source": [
    "from sklearn.preprocessing import StandardScaler"
   ]
  },
  {
   "cell_type": "code",
   "execution_count": 47,
   "id": "cbd3515f-3299-4142-82f3-37d668256f8b",
   "metadata": {},
   "outputs": [],
   "source": [
    "from sklearn.preprocessing import StandardScaler"
   ]
  },
  {
   "cell_type": "code",
   "execution_count": 41,
   "id": "e4488de8-3432-4b1a-9cea-4080c7488586",
   "metadata": {},
   "outputs": [
    {
     "data": {
      "text/plain": [
       "array([[-1.39853722],\n",
       "       [ 0.1698353 ],\n",
       "       [ 0.91907852],\n",
       "       ...,\n",
       "       [ 1.36027953],\n",
       "       [ 0.22150859],\n",
       "       [-0.06776315]])"
      ]
     },
     "execution_count": 41,
     "metadata": {},
     "output_type": "execute_result"
    }
   ],
   "source": [
    "visa_df=pd.read_csv(r\"C:\\Users\\91937\\Downloads\\Visadataset.csv\")\n",
    "sc=StandardScaler()\n",
    "wage_data=visa_df[['prevailing_wage']]\n",
    "wage_data_ss=sc.fit_transform(wage_data)\n",
    "visa_df['wage_data_ss']=wage_data_ss\n",
    "wage_data_ss"
   ]
  },
  {
   "cell_type": "code",
   "execution_count": 59,
   "id": "0c84ec1b-885f-4915-a544-5266990255ac",
   "metadata": {},
   "outputs": [
    {
     "data": {
      "text/html": [
       "<div>\n",
       "<style scoped>\n",
       "    .dataframe tbody tr th:only-of-type {\n",
       "        vertical-align: middle;\n",
       "    }\n",
       "\n",
       "    .dataframe tbody tr th {\n",
       "        vertical-align: top;\n",
       "    }\n",
       "\n",
       "    .dataframe thead th {\n",
       "        text-align: right;\n",
       "    }\n",
       "</style>\n",
       "<table border=\"1\" class=\"dataframe\">\n",
       "  <thead>\n",
       "    <tr style=\"text-align: right;\">\n",
       "      <th></th>\n",
       "      <th>prevailing_wage</th>\n",
       "      <th>prevailing_wage_z</th>\n",
       "      <th>wage_data_ss</th>\n",
       "    </tr>\n",
       "  </thead>\n",
       "  <tbody>\n",
       "    <tr>\n",
       "      <th>0</th>\n",
       "      <td>592.2029</td>\n",
       "      <td>-1.398510</td>\n",
       "      <td>-1.398537</td>\n",
       "    </tr>\n",
       "    <tr>\n",
       "      <th>1</th>\n",
       "      <td>83425.6500</td>\n",
       "      <td>0.169832</td>\n",
       "      <td>0.169835</td>\n",
       "    </tr>\n",
       "    <tr>\n",
       "      <th>2</th>\n",
       "      <td>122996.8600</td>\n",
       "      <td>0.919060</td>\n",
       "      <td>0.919079</td>\n",
       "    </tr>\n",
       "    <tr>\n",
       "      <th>3</th>\n",
       "      <td>83434.0300</td>\n",
       "      <td>0.169991</td>\n",
       "      <td>0.169994</td>\n",
       "    </tr>\n",
       "    <tr>\n",
       "      <th>4</th>\n",
       "      <td>149907.3900</td>\n",
       "      <td>1.428576</td>\n",
       "      <td>1.428604</td>\n",
       "    </tr>\n",
       "    <tr>\n",
       "      <th>...</th>\n",
       "      <td>...</td>\n",
       "      <td>...</td>\n",
       "      <td>...</td>\n",
       "    </tr>\n",
       "    <tr>\n",
       "      <th>25475</th>\n",
       "      <td>77092.5700</td>\n",
       "      <td>0.049923</td>\n",
       "      <td>0.049924</td>\n",
       "    </tr>\n",
       "    <tr>\n",
       "      <th>25476</th>\n",
       "      <td>279174.7900</td>\n",
       "      <td>3.876083</td>\n",
       "      <td>3.876159</td>\n",
       "    </tr>\n",
       "    <tr>\n",
       "      <th>25477</th>\n",
       "      <td>146298.8500</td>\n",
       "      <td>1.360253</td>\n",
       "      <td>1.360280</td>\n",
       "    </tr>\n",
       "    <tr>\n",
       "      <th>25478</th>\n",
       "      <td>86154.7700</td>\n",
       "      <td>0.221504</td>\n",
       "      <td>0.221509</td>\n",
       "    </tr>\n",
       "    <tr>\n",
       "      <th>25479</th>\n",
       "      <td>70876.9100</td>\n",
       "      <td>-0.067762</td>\n",
       "      <td>-0.067763</td>\n",
       "    </tr>\n",
       "  </tbody>\n",
       "</table>\n",
       "<p>25480 rows × 3 columns</p>\n",
       "</div>"
      ],
      "text/plain": [
       "       prevailing_wage  prevailing_wage_z  wage_data_ss\n",
       "0             592.2029          -1.398510     -1.398537\n",
       "1           83425.6500           0.169832      0.169835\n",
       "2          122996.8600           0.919060      0.919079\n",
       "3           83434.0300           0.169991      0.169994\n",
       "4          149907.3900           1.428576      1.428604\n",
       "...                ...                ...           ...\n",
       "25475       77092.5700           0.049923      0.049924\n",
       "25476      279174.7900           3.876083      3.876159\n",
       "25477      146298.8500           1.360253      1.360280\n",
       "25478       86154.7700           0.221504      0.221509\n",
       "25479       70876.9100          -0.067762     -0.067763\n",
       "\n",
       "[25480 rows x 3 columns]"
      ]
     },
     "execution_count": 59,
     "metadata": {},
     "output_type": "execute_result"
    }
   ],
   "source": [
    "visa_df['prevailing_wage']\n",
    "\n",
    "visa_df['wage_data_ss']=wage_data_ss\n",
    "visa_df['prevailing_wage_z']=wage_z\n",
    "visa_df[['prevailing_wage','prevailing_wage_z','wage_data_ss']]"
   ]
  },
  {
   "cell_type": "code",
   "execution_count": 54,
   "id": "298bce6a-c4fa-4d08-b3b6-82fb18840c07",
   "metadata": {},
   "outputs": [
    {
     "data": {
      "image/png": "[encoded data removed]",
      "text/plain": [
       "<Figure size 1000x300 with 1 Axes>"
      ]
     },
     "metadata": {},
     "output_type": "display_data"
    },
    {
     "data": {
      "image/png": "[encoded data removed]",
      "text/plain": [
       "<Figure size 640x480 with 1 Axes>"
      ]
     },
     "metadata": {},
     "output_type": "display_data"
    },
    {
     "data": {
      "text/plain": [
       "(None, None)"
      ]
     },
     "execution_count": 54,
     "metadata": {},
     "output_type": "execute_result"
    }
   ],
   "source": [
    "\n",
    "import matplotlib.pyplot as plt\n",
    "visa_df=pd.read_csv(r\"C:\\Users\\91937\\Downloads\\Visadataset.csv\")\n",
    "wage_data=visa_df['prevailing_wage']\n",
    "mean=wage_data.mean()\n",
    "std=wage_data.std()\n",
    "nr=wage_data-mean\n",
    "z=nr/std\n",
    "visa_df['prevailing_wage']=z\n",
    "plt.figure(figsize=(10,3))\n",
    "a=plt.show(plt.subplot(1,2,1).hist(wage_data))\n",
    "b=plt.show(plt.subplot(1,2,2).hist(z))\n",
    "a,b"
   ]
  },
  {
   "cell_type": "code",
   "execution_count": null,
   "id": "2f9e2fca-9d3c-4175-9425-885985db3447",
   "metadata": {},
   "outputs": [],
   "source": []
  },
  {
   "cell_type": "code",
   "execution_count": null,
   "id": "8e152cfa-2ffe-4e13-8156-c18aef138076",
   "metadata": {},
   "outputs": [],
   "source": []
  }
 ],
 "metadata": {
  "kernelspec": {
   "display_name": "Python [conda env:base] *",
   "language": "python",
   "name": "conda-base-py"
  },
  "language_info": {
   "codemirror_mode": {
    "name": "ipython",
    "version": 3
   },
   "file_extension": ".py",
   "mimetype": "text/x-python",
   "name": "python",
   "nbconvert_exporter": "python",
   "pygments_lexer": "ipython3",
   "version": "3.12.7"
  }
 },
 "nbformat": 4,
 "nbformat_minor": 5
}
